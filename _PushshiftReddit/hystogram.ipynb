{
 "cells": [
  {
   "cell_type": "code",
   "execution_count": 1,
   "metadata": {},
   "outputs": [],
   "source": [
    "import matplotlib.pyplot as plt\n",
    "import seaborn as sns\n",
    "import pandas as pd\n",
    "import numpy as np\n",
    "import spacy"
   ]
  },
  {
   "cell_type": "code",
   "execution_count": 2,
   "metadata": {},
   "outputs": [],
   "source": [
    "histogram = pd.read_csv(\"./data/reddit/cm/analysis/most_common_words.csv\")"
   ]
  },
  {
   "cell_type": "code",
   "execution_count": 3,
   "metadata": {},
   "outputs": [
    {
     "data": {
      "text/html": [
       "<div>\n",
       "<style scoped>\n",
       "    .dataframe tbody tr th:only-of-type {\n",
       "        vertical-align: middle;\n",
       "    }\n",
       "\n",
       "    .dataframe tbody tr th {\n",
       "        vertical-align: top;\n",
       "    }\n",
       "\n",
       "    .dataframe thead th {\n",
       "        text-align: right;\n",
       "    }\n",
       "</style>\n",
       "<table border=\"1\" class=\"dataframe\">\n",
       "  <thead>\n",
       "    <tr style=\"text-align: right;\">\n",
       "      <th></th>\n",
       "      <th>Unnamed: 0</th>\n",
       "      <th>appear</th>\n",
       "      <th>rank</th>\n",
       "    </tr>\n",
       "  </thead>\n",
       "  <tbody>\n",
       "    <tr>\n",
       "      <th>0</th>\n",
       "      <td>the</td>\n",
       "      <td>18249104</td>\n",
       "      <td>0</td>\n",
       "    </tr>\n",
       "    <tr>\n",
       "      <th>1</th>\n",
       "      <td>to</td>\n",
       "      <td>16802503</td>\n",
       "      <td>1</td>\n",
       "    </tr>\n",
       "    <tr>\n",
       "      <th>2</th>\n",
       "      <td>a</td>\n",
       "      <td>14517608</td>\n",
       "      <td>2</td>\n",
       "    </tr>\n",
       "    <tr>\n",
       "      <th>3</th>\n",
       "      <td>and</td>\n",
       "      <td>13606751</td>\n",
       "      <td>3</td>\n",
       "    </tr>\n",
       "    <tr>\n",
       "      <th>4</th>\n",
       "      <td>i</td>\n",
       "      <td>11952501</td>\n",
       "      <td>4</td>\n",
       "    </tr>\n",
       "  </tbody>\n",
       "</table>\n",
       "</div>"
      ],
      "text/plain": [
       "  Unnamed: 0    appear  rank\n",
       "0        the  18249104     0\n",
       "1         to  16802503     1\n",
       "2          a  14517608     2\n",
       "3        and  13606751     3\n",
       "4          i  11952501     4"
      ]
     },
     "execution_count": 3,
     "metadata": {},
     "output_type": "execute_result"
    }
   ],
   "source": [
    "histogram.head()"
   ]
  },
  {
   "cell_type": "code",
   "execution_count": 4,
   "metadata": {},
   "outputs": [],
   "source": [
    "histogram = histogram.rename(columns={\"Unnamed: 0\": \"Word\"})"
   ]
  },
  {
   "cell_type": "code",
   "execution_count": 5,
   "metadata": {},
   "outputs": [],
   "source": [
    "histogram = histogram.set_index(\"Word\")"
   ]
  },
  {
   "cell_type": "code",
   "execution_count": 6,
   "metadata": {},
   "outputs": [],
   "source": [
    "nlp = spacy.load(\"en\")"
   ]
  },
  {
   "cell_type": "code",
   "execution_count": 30,
   "metadata": {},
   "outputs": [],
   "source": [
    "my_stop_words = ['say', '\\s', 'Mr', 'be', 'said', 'says', 'saying', 's', '’s', '\\n\\n', \"it's\",\n",
    "                 \"don't\", \"i'm\", \"NaN\", \"you're\", \"that's\"]"
   ]
  },
  {
   "cell_type": "code",
   "execution_count": 35,
   "metadata": {},
   "outputs": [],
   "source": [
    "spacy_stopwords = spacy.lang.en.stop_words.STOP_WORDS\n",
    "stop_list = list(spacy_stopwords)\n",
    "stop_list.extend(my_stop_words)\n",
    "stop = dict((el,0) for el in stop_list)"
   ]
  },
  {
   "cell_type": "code",
   "execution_count": 36,
   "metadata": {},
   "outputs": [],
   "source": [
    "for word in histogram.index[:10000]:\n",
    "    if word in stop:\n",
    "        histogram.drop(word, axis=0, inplace=True)"
   ]
  },
  {
   "cell_type": "code",
   "execution_count": 40,
   "metadata": {},
   "outputs": [],
   "source": [
    "histogram = histogram[histogram.appear > 10]"
   ]
  },
  {
   "cell_type": "code",
   "execution_count": 41,
   "metadata": {},
   "outputs": [],
   "source": [
    "histogram.to_csv(\"common_not_stopwords.csv\")"
   ]
  },
  {
   "cell_type": "code",
   "execution_count": 42,
   "metadata": {},
   "outputs": [
    {
     "data": {
      "text/plain": [
       "<bound method NDFrame.tail of                     appear    rank\n",
       "Word                              \n",
       "like               2900851      27\n",
       "women              2719450      29\n",
       "people             1945411      43\n",
       "men                1692724      54\n",
       "think              1560665      62\n",
       "want               1327437      68\n",
       "know               1287195      70\n",
       "NaN                1245394      71\n",
       "time               1235537      72\n",
       "good               1192979      75\n",
       "way                1040828      81\n",
       "life                936946      86\n",
       "man                 931179      88\n",
       "gt                  866172      94\n",
       "shit                832435      99\n",
       "going               823940     100\n",
       "woman               787601     105\n",
       "sex                 738837     111\n",
       "things              728679     113\n",
       "fuck                724567     114\n",
       "need                717430     115\n",
       "right               710088     117\n",
       "deleted             707276     118\n",
       "thing               684949     120\n",
       "guy                 682331     121\n",
       "doesn't             673871     124\n",
       "work                673146     125\n",
       "better              640105     130\n",
       "feel                638865     131\n",
       "girl                626287     132\n",
       "...                    ...     ...\n",
       "cacs                    11  135837\n",
       "handcels                11  135838\n",
       "“basic”                 11  135839\n",
       "wans't                  11  135840\n",
       "race/nationality        11  135841\n",
       "enjoyin                 11  135842\n",
       "comment/thread          11  135843\n",
       "melodious               11  135844\n",
       "scrips                  11  135845\n",
       "exult                   11  135846\n",
       "waist:hip               11  135847\n",
       "u/incelgraveyard        11  135848\n",
       "rapports                11  135849\n",
       "quickly/easily          11  135850\n",
       "maxcell                 11  135851\n",
       "blatter                 11  135852\n",
       "41,000                  11  135853\n",
       "comperable              11  135854\n",
       "kinkos                  11  135855\n",
       "r/bluepillscience       11  135856\n",
       "ohno                    11  135857\n",
       "spooling                11  135858\n",
       "blackedoutfast          11  135859\n",
       "philmont                11  135860\n",
       "anas                    11  135861\n",
       "wso                     11  135862\n",
       "gtyoud                  11  135863\n",
       "ectomy                  11  135864\n",
       "deterent                11  135865\n",
       "turd_clogs_toilet       11  135866\n",
       "\n",
       "[135571 rows x 2 columns]>"
      ]
     },
     "execution_count": 42,
     "metadata": {},
     "output_type": "execute_result"
    }
   ],
   "source": [
    "histogram.tail"
   ]
  },
  {
   "cell_type": "code",
   "execution_count": null,
   "metadata": {},
   "outputs": [],
   "source": []
  }
 ],
 "metadata": {
  "kernelspec": {
   "display_name": "Python 3",
   "language": "python",
   "name": "python3"
  },
  "language_info": {
   "codemirror_mode": {
    "name": "ipython",
    "version": 3
   },
   "file_extension": ".py",
   "mimetype": "text/x-python",
   "name": "python",
   "nbconvert_exporter": "python",
   "pygments_lexer": "ipython3",
   "version": "3.7.3"
  }
 },
 "nbformat": 4,
 "nbformat_minor": 2
}
