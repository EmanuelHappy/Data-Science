{
 "cells": [
  {
   "cell_type": "code",
   "execution_count": 1,
   "metadata": {},
   "outputs": [],
   "source": [
    "import pandas as pd\n",
    "import networkx as nx\n",
    "import argparse\n",
    "import itertools"
   ]
  },
  {
   "cell_type": "code",
   "execution_count": 2,
   "metadata": {},
   "outputs": [],
   "source": [
    "def add_weigths(t, Gr):\n",
    "    for i in range(len(t)):\n",
    "        for j in range(i+1, len(t)):\n",
    "            Gr.edges[t[i], t[j]]['weight'] += 1"
   ]
  },
  {
   "cell_type": "code",
   "execution_count": 3,
   "metadata": {},
   "outputs": [],
   "source": [
    "sdf = pd.read_csv('./data/reddit/subreddits.csv')\n",
    "subreddits = sdf.values.tolist()"
   ]
  },
  {
   "cell_type": "code",
   "execution_count": 4,
   "metadata": {},
   "outputs": [],
   "source": [
    "years = ['2010', '2011', '2012', '2013', '2014', '2015', '2016', '2017', '2018', '2019']"
   ]
  },
  {
   "cell_type": "code",
   "execution_count": 10,
   "metadata": {},
   "outputs": [],
   "source": [
    "df0 = pd.DataFrame()\n",
    "df1 = pd.DataFrame()\n",
    "df2 = pd.DataFrame()\n",
    "df3 = pd.DataFrame()\n",
    "df4 = pd.DataFrame()\n",
    "df5 = pd.DataFrame()\n",
    "df6 = pd.DataFrame()\n",
    "df7 = pd.DataFrame()\n",
    "df8 = pd.DataFrame()\n",
    "df9 = pd.DataFrame()"
   ]
  },
  {
   "cell_type": "code",
   "execution_count": 11,
   "metadata": {},
   "outputs": [],
   "source": [
    "def mask_year(year, temp_df):\n",
    "    mask=temp_df[\"Publish Date\"].str.contains(year,na=False)\n",
    "    temp_au = pd.DataFrame(temp_df[mask].groupby('Author')['Score'].sum())\n",
    "    temp_au['sub'] = sub + ' '\n",
    "    return temp_au"
   ]
  },
  {
   "cell_type": "code",
   "execution_count": 16,
   "metadata": {},
   "outputs": [],
   "source": [
    "DataFrames = []"
   ]
  },
  {
   "cell_type": "code",
   "execution_count": 17,
   "metadata": {},
   "outputs": [],
   "source": [
    "for s in subreddits:\n",
    "    sub = str(s)[5:-5]\n",
    "    temp_df = pd.read_csv(f'./data/reddit/cm/{sub}_comments.csv')\n",
    "    temp_df = temp_df[temp_df.Author != '[deleted]']\n",
    "    \n",
    "    if s == subreddits[0]:\n",
    "        for i in range(10):\n",
    "            DataFrames.append(mask_year(years[i], temp_df))\n",
    "    else:\n",
    "        for i in range(10):\n",
    "            DataFrames[i] = DataFrames[i].append(mask_year(years[i], temp_df))"
   ]
  },
  {
   "cell_type": "code",
   "execution_count": 25,
   "metadata": {},
   "outputs": [],
   "source": [
    "relations = []"
   ]
  },
  {
   "cell_type": "code",
   "execution_count": 26,
   "metadata": {},
   "outputs": [],
   "source": [
    "for i in range(10):\n",
    "    relations.append(pd.DataFrame(DataFrames[i].groupby('Author')['sub'].sum()))"
   ]
  },
  {
   "cell_type": "code",
   "execution_count": 28,
   "metadata": {},
   "outputs": [
    {
     "data": {
      "text/html": [
       "<div>\n",
       "<style scoped>\n",
       "    .dataframe tbody tr th:only-of-type {\n",
       "        vertical-align: middle;\n",
       "    }\n",
       "\n",
       "    .dataframe tbody tr th {\n",
       "        vertical-align: top;\n",
       "    }\n",
       "\n",
       "    .dataframe thead th {\n",
       "        text-align: right;\n",
       "    }\n",
       "</style>\n",
       "<table border=\"1\" class=\"dataframe\">\n",
       "  <thead>\n",
       "    <tr style=\"text-align: right;\">\n",
       "      <th></th>\n",
       "      <th>sub</th>\n",
       "    </tr>\n",
       "    <tr>\n",
       "      <th>Author</th>\n",
       "      <th></th>\n",
       "    </tr>\n",
       "  </thead>\n",
       "  <tbody>\n",
       "    <tr>\n",
       "      <th>---__--_---__---_-__</th>\n",
       "      <td>TheRedPill</td>\n",
       "    </tr>\n",
       "    <tr>\n",
       "      <th>--CellarDoor--</th>\n",
       "      <td>TheBluePill</td>\n",
       "    </tr>\n",
       "    <tr>\n",
       "      <th>--Cherry--</th>\n",
       "      <td>TheRedPill</td>\n",
       "    </tr>\n",
       "    <tr>\n",
       "      <th>--Edog--</th>\n",
       "      <td>TheRedPill</td>\n",
       "    </tr>\n",
       "    <tr>\n",
       "      <th>--TakeThePill</th>\n",
       "      <td>TheRedPill asktrp</td>\n",
       "    </tr>\n",
       "  </tbody>\n",
       "</table>\n",
       "</div>"
      ],
      "text/plain": [
       "                                     sub\n",
       "Author                                  \n",
       "---__--_---__---_-__         TheRedPill \n",
       "--CellarDoor--              TheBluePill \n",
       "--Cherry--                   TheRedPill \n",
       "--Edog--                     TheRedPill \n",
       "--TakeThePill         TheRedPill asktrp "
      ]
     },
     "execution_count": 28,
     "metadata": {},
     "output_type": "execute_result"
    }
   ],
   "source": [
    "relations[5].head()"
   ]
  },
  {
   "cell_type": "code",
   "execution_count": 29,
   "metadata": {},
   "outputs": [],
   "source": [
    "Graphs = []"
   ]
  },
  {
   "cell_type": "code",
   "execution_count": 30,
   "metadata": {},
   "outputs": [],
   "source": [
    "for i in range(10):\n",
    "    Graphs.append(nx.Graph())\n",
    "                                                            \n",
    "for s in subreddits:                                    \n",
    "    sub = str(s)[5:-5]                                  \n",
    "    for i in range(10):\n",
    "        Graphs[i].add_node(sub)\n",
    "                                                            \n",
    "t = [str(s)[5:-5] for s in subreddits]        \n",
    "for i in range(10):\n",
    "    Graphs[i].add_weighted_edges_from(itertools.product(t, t, [0])) "
   ]
  },
  {
   "cell_type": "code",
   "execution_count": 31,
   "metadata": {},
   "outputs": [],
   "source": [
    "for i in range(10):\n",
    "    for Author in relations[i]['sub']: \n",
    "        sub = Author.split()       \n",
    "        if len(sub) > 1:           \n",
    "            add_weigths(sub, Graphs[i])    "
   ]
  },
  {
   "cell_type": "code",
   "execution_count": 34,
   "metadata": {},
   "outputs": [],
   "source": [
    "for i in range(10):\n",
    "    nx.write_gexf(Graphs[i], f\"./data/reddit/graphs/graph_201{i}.gexf\")       "
   ]
  },
  {
   "cell_type": "code",
   "execution_count": null,
   "metadata": {},
   "outputs": [],
   "source": []
  }
 ],
 "metadata": {
  "kernelspec": {
   "display_name": "Python 3",
   "language": "python",
   "name": "python3"
  },
  "language_info": {
   "codemirror_mode": {
    "name": "ipython",
    "version": 3
   },
   "file_extension": ".py",
   "mimetype": "text/x-python",
   "name": "python",
   "nbconvert_exporter": "python",
   "pygments_lexer": "ipython3",
   "version": "3.7.3"
  }
 },
 "nbformat": 4,
 "nbformat_minor": 2
}
