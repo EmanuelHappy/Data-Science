{
 "cells": [
  {
   "cell_type": "code",
   "execution_count": 1,
   "metadata": {},
   "outputs": [],
   "source": [
    "import pickle\n",
    "from gensim.models import CoherenceModel, HdpModel\n",
    "from gensim.corpora import Dictionary, MmCorpus\n",
    "import pyLDAvis.gensim\n",
    "import warnings\n",
    "warnings.filterwarnings('ignore')  # Let's clean the output"
   ]
  },
  {
   "cell_type": "code",
   "execution_count": 2,
   "metadata": {},
   "outputs": [],
   "source": [
    "hdpmodel = HdpModel.load('hdp_model_spacy.gensim')\n",
    "dictionary = Dictionary.load('hdp_dictionary.dict')\n",
    "corpus = MmCorpus('hdp_corpus.mm')"
   ]
  },
  {
   "cell_type": "code",
   "execution_count": 3,
   "metadata": {},
   "outputs": [],
   "source": [
    "with open(\"texts.txt\", \"rb\") as fp:   # Unpickling\n",
    "    texts = pickle.load(fp)"
   ]
  },
  {
   "cell_type": "code",
   "execution_count": 5,
   "metadata": {},
   "outputs": [
    {
     "data": {
      "text/plain": [
       "[(0,\n",
       "  '0.023*woman + 0.015*man + 0.012*like + 0.010*  + 0.009*people + 0.009*think + 0.008*want + 0.006*know + 0.006*thing + 0.006*sex'),\n",
       " (1,\n",
       "  '0.016*woman + 0.013*like + 0.011*man + 0.010*  + 0.009*think + 0.008*people + 0.006*know + 0.006*want + 0.005*thing + 0.005*guy'),\n",
       " (2,\n",
       "  '0.016*woman + 0.013*like + 0.011*man + 0.010*  + 0.009*think + 0.008*people + 0.006*want + 0.006*know + 0.005*thing + 0.005*guy'),\n",
       " (3,\n",
       "  '0.016*woman + 0.013*like + 0.011*man + 0.010*  + 0.009*think + 0.008*people + 0.006*know + 0.006*want + 0.005*guy + 0.005*thing'),\n",
       " (4,\n",
       "  '0.016*woman + 0.013*like + 0.010*man + 0.010*  + 0.009*think + 0.008*people + 0.006*know + 0.006*want + 0.005*thing + 0.005*guy'),\n",
       " (5,\n",
       "  '0.016*woman + 0.013*like + 0.010*man + 0.010*  + 0.009*think + 0.008*people + 0.006*want + 0.006*know + 0.005*thing + 0.005*guy'),\n",
       " (6,\n",
       "  '0.016*woman + 0.013*like + 0.010*man + 0.010*  + 0.009*think + 0.008*people + 0.006*want + 0.006*know + 0.005*guy + 0.005*thing'),\n",
       " (7,\n",
       "  '0.016*woman + 0.013*like + 0.010*man + 0.010*  + 0.009*think + 0.008*people + 0.006*want + 0.006*know + 0.005*thing + 0.005*guy'),\n",
       " (8,\n",
       "  '0.016*woman + 0.013*like + 0.010*man + 0.010*  + 0.009*think + 0.008*people + 0.007*want + 0.007*know + 0.005*guy + 0.005*thing'),\n",
       " (9,\n",
       "  '0.016*woman + 0.013*like + 0.010*man + 0.010*  + 0.009*think + 0.008*people + 0.006*want + 0.006*know + 0.005*guy + 0.005*thing'),\n",
       " (10,\n",
       "  '0.016*woman + 0.013*like + 0.010*man + 0.010*  + 0.009*think + 0.008*people + 0.006*know + 0.006*want + 0.005*\\n     + 0.005*thing'),\n",
       " (11,\n",
       "  '0.017*woman + 0.013*like + 0.010*man + 0.010*  + 0.009*think + 0.008*people + 0.006*want + 0.006*know + 0.005*guy + 0.005*thing'),\n",
       " (12,\n",
       "  '0.017*woman + 0.013*like + 0.011*man + 0.010*  + 0.009*think + 0.008*people + 0.006*want + 0.006*know + 0.005*guy + 0.005*thing'),\n",
       " (13,\n",
       "  '0.016*woman + 0.013*like + 0.010*man + 0.010*  + 0.009*think + 0.008*people + 0.006*know + 0.006*want + 0.005*thing + 0.005*guy'),\n",
       " (14,\n",
       "  '0.016*woman + 0.013*like + 0.010*man + 0.010*  + 0.009*think + 0.008*people + 0.006*know + 0.006*want + 0.005*guy + 0.005*thing'),\n",
       " (15,\n",
       "  '0.017*woman + 0.013*like + 0.011*man + 0.010*  + 0.009*think + 0.008*people + 0.006*know + 0.006*want + 0.006*guy + 0.005*thing'),\n",
       " (16,\n",
       "  '0.016*woman + 0.013*like + 0.010*man + 0.010*  + 0.009*think + 0.008*people + 0.006*want + 0.006*know + 0.005*guy + 0.005*thing'),\n",
       " (17,\n",
       "  '0.016*woman + 0.013*like + 0.011*man + 0.010*  + 0.009*think + 0.008*people + 0.006*know + 0.006*want + 0.005*guy + 0.005*thing'),\n",
       " (18,\n",
       "  '0.016*woman + 0.013*like + 0.011*man + 0.010*  + 0.009*think + 0.008*people + 0.006*want + 0.006*know + 0.005*thing + 0.005*guy'),\n",
       " (19,\n",
       "  '0.016*woman + 0.013*like + 0.010*man + 0.010*  + 0.009*think + 0.008*people + 0.006*know + 0.006*want + 0.005*thing + 0.005*guy')]"
      ]
     },
     "execution_count": 5,
     "metadata": {},
     "output_type": "execute_result"
    }
   ],
   "source": [
    "hdpmodel.print_topics()"
   ]
  },
  {
   "cell_type": "code",
   "execution_count": 6,
   "metadata": {},
   "outputs": [],
   "source": [
    "vis_hdpmodel = hdpmodel.suggested_lda_model()"
   ]
  },
  {
   "cell_type": "code",
   "execution_count": 7,
   "metadata": {},
   "outputs": [],
   "source": [
    "vis_hdp = [[word for word, prob in topic] for topicid, topic in vis_hdpmodel.show_topics(formatted=False)]"
   ]
  },
  {
   "cell_type": "code",
   "execution_count": 9,
   "metadata": {},
   "outputs": [
    {
     "data": {
      "text/plain": [
       "0.46961036611113566"
      ]
     },
     "execution_count": 9,
     "metadata": {},
     "output_type": "execute_result"
    }
   ],
   "source": [
    "CoherenceModel(topics=vis_hdp, texts=texts, dictionary=dictionary, window_size=10).get_coherence()"
   ]
  },
  {
   "cell_type": "code",
   "execution_count": null,
   "metadata": {},
   "outputs": [],
   "source": [
    "pyLDAvis.enable_notebook()\n",
    "p = pyLDAvis.gensim.prepare(vis_hdpmodel, corpus, dictionary)"
   ]
  },
  {
   "cell_type": "code",
   "execution_count": null,
   "metadata": {},
   "outputs": [],
   "source": [
    "pyLDAvis.save_html(p, 'topic_model.html')"
   ]
  }
 ],
 "metadata": {
  "kernelspec": {
   "display_name": "Python 3",
   "language": "python",
   "name": "python3"
  },
  "language_info": {
   "codemirror_mode": {
    "name": "ipython",
    "version": 3
   },
   "file_extension": ".py",
   "mimetype": "text/x-python",
   "name": "python",
   "nbconvert_exporter": "python",
   "pygments_lexer": "ipython3",
   "version": "3.7.3"
  }
 },
 "nbformat": 4,
 "nbformat_minor": 2
}
