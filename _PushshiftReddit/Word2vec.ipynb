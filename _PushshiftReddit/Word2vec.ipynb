{
 "cells": [
  {
   "cell_type": "markdown",
   "metadata": {},
   "source": [
    "# Models of Word2Vec "
   ]
  },
  {
   "cell_type": "markdown",
   "metadata": {},
   "source": [
    "# Learning how to use:"
   ]
  },
  {
   "cell_type": "markdown",
   "metadata": {},
   "source": [
    "## Gensim Tutorial with Wikipedia article"
   ]
  },
  {
   "cell_type": "markdown",
   "metadata": {},
   "source": [
    "### Creating Corpus"
   ]
  },
  {
   "cell_type": "code",
   "execution_count": 70,
   "metadata": {},
   "outputs": [],
   "source": [
    "import bs4 as bs  \n",
    "import urllib.request  \n",
    "import re  \n",
    "\n",
    "scrapped_data = urllib.request.urlopen('https://en.wikipedia.org/wiki/Artificial_intelligence')  \n",
    "article = scrapped_data .read()\n",
    "\n",
    "parsed_article = bs.BeautifulSoup(article,'lxml')\n",
    "\n",
    "paragraphs = parsed_article.find_all('p')\n",
    "\n",
    "article_text = \"\"\n",
    "\n",
    "for p in paragraphs:  \n",
    "    article_text += p.text"
   ]
  },
  {
   "cell_type": "code",
   "execution_count": 71,
   "metadata": {},
   "outputs": [
    {
     "name": "stdout",
     "output_type": "stream",
     "text": [
      "<class 'bytes'> \n",
      " b'<!DOCTYPE html>\\n<html class=\"client-nojs\" lang=\"en\" dir=\"ltr\">\\n<head>\\n<meta charset=\"UTF-8\"/>\\n<title'\n"
     ]
    }
   ],
   "source": [
    "print(type(article), \"\\n\", \n",
    "      article[:100])"
   ]
  },
  {
   "cell_type": "code",
   "execution_count": 72,
   "metadata": {},
   "outputs": [
    {
     "name": "stdout",
     "output_type": "stream",
     "text": [
      "<class 'bs4.BeautifulSoup'> \n",
      " <title>Artificial intelligence - Wikipedia</title>\n"
     ]
    }
   ],
   "source": [
    "print(type(parsed_article), \"\\n\",\n",
    "      parsed_article.find(\"title\")) #html page\n"
   ]
  },
  {
   "cell_type": "code",
   "execution_count": 73,
   "metadata": {},
   "outputs": [
    {
     "name": "stdout",
     "output_type": "stream",
     "text": [
      "<class 'str'> \n",
      " \n",
      "In computer science,  artificial intelligence (AI), sometimes called machine intelligence, is intel\n"
     ]
    }
   ],
   "source": [
    "print(type(article_text), \"\\n\",\n",
    "      article_text[:100])"
   ]
  },
  {
   "cell_type": "markdown",
   "metadata": {},
   "source": [
    "### Preprocessing"
   ]
  },
  {
   "cell_type": "code",
   "execution_count": 5,
   "metadata": {},
   "outputs": [],
   "source": [
    "# Cleaing the text\n",
    "processed_article = article_text.lower()  \n",
    "processed_article = re.sub('[^a-zA-Z]', ' ', processed_article )  \n",
    "processed_article = re.sub(r'\\s+', ' ', processed_article)"
   ]
  },
  {
   "cell_type": "code",
   "execution_count": 74,
   "metadata": {},
   "outputs": [
    {
     "data": {
      "text/plain": [
       "' in computer science artificial intelligence ai sometimes called machine intelligence is intelligenc'"
      ]
     },
     "execution_count": 74,
     "metadata": {},
     "output_type": "execute_result"
    }
   ],
   "source": [
    "processed_article[:100]"
   ]
  },
  {
   "cell_type": "code",
   "execution_count": 75,
   "metadata": {},
   "outputs": [],
   "source": [
    "import spacy"
   ]
  },
  {
   "cell_type": "code",
   "execution_count": 76,
   "metadata": {},
   "outputs": [],
   "source": [
    "nlp = spacy.load('en')"
   ]
  },
  {
   "cell_type": "code",
   "execution_count": 77,
   "metadata": {},
   "outputs": [
    {
     "name": "stdout",
     "output_type": "stream",
     "text": [
      "-->Sentence 0:  in computer science artificial intelligence ai sometimes called machine intelligence is intelligence demonstrated by machines in contrast to the natural intelligence displayed by humans colloquially the term artificial intelligence is used to describe machines computers that mimic cognitive functions that humans associate with other human minds such as learning and problem solving as machines become increasingly capable tasks considered to require intelligence are often removed from the definit\n",
      "-->Sentence 1: ai has elements from cognitive and emotional intelligence understanding human emotions in addition to cognitive elements and considering them in their decision making humanized\n",
      "-->Sentence 2: ai shows characteristics of all types of competencies\n",
      "-->Sentence 3: i e cognitive emotional and social intelligence is able to be self conscious and is self aware in interactions with others artificial intelligence was founded as an academic discipline in and in the years since has experienced several waves of optimism followed by disappointment and the loss of funding known as an ai winter followed by new approaches success and renewed funding for most of its history ai research has been divided into subfields that often fail to communicate with each other thes\n",
      "-->Sentence 4: turing s\n",
      "-->Sentence 5: theory of computation which suggested that a machine by shuffling symbols as simple as and could simulate any conceivable act of mathematical deduction this insight that digital computers can simulate any process of formal reasoning is known as the church turing thesis along with concurrent discoveries in neurobiology information theory and cybernetics this led researchers to consider the possibility of building an electronic brain turing proposed that if a human could not distinguish between re\n",
      "-->Sentence 6: they and their students produced programs that the press described as astonishing computers were learning checkers strategies c and by were reportedly playing better than the average human solving word problems in algebra proving logical theorems logic theorist\n",
      "-->Sentence 7: first run c and speaking english by the middle of the s research in the u s was heavily funded by the department of defense and laboratories had been established around the world ai\n",
      "-->Sentence 8: s founders were optimistic about the future herbert simon predicted machines will be capable within twenty years of doing any work a man can do\n",
      "-->Sentence 9: marvin minsky agreed writing within a generation the problem of creating artificial intelligence will substantially be solved they failed to recognize the difficulty of some of the remaining tasks progress slowed and in in response to the criticism of sir james lighthill and ongoing pressure from the us congress to fund more productive projects both the u s and british governments cut off exploratory research in ai the next few years would later be called an ai winter a period when obtaining fun\n"
     ]
    }
   ],
   "source": [
    "doc = nlp(processed_article)\n",
    "for i, token in enumerate(doc.sents):\n",
    "    if i< 10:\n",
    "        print('-->Sentence %d: %s' % (i, token.text[:500]))\n",
    "    else:\n",
    "        break"
   ]
  },
  {
   "cell_type": "code",
   "execution_count": 78,
   "metadata": {},
   "outputs": [],
   "source": [
    "spacy_stopwords = spacy.lang.en.stop_words.STOP_WORDS"
   ]
  },
  {
   "cell_type": "code",
   "execution_count": 79,
   "metadata": {},
   "outputs": [
    {
     "name": "stdout",
     "output_type": "stream",
     "text": [
      "{'you', 'became', 'ever', 'more', 'down', 'in', 'used', 'least', 'were', 'per', 'will', 'all', 'cannot', 'last', 'whole', 'give', 'then', 'through', '‘m', 'across', 'already', 'anyone', 'hereafter', 'and', 'made', 'or', 'well', 'much', \"'ve\", 'go', 'beforehand', 'whom', 'less', 'why', 'otherwise', 'the', 'yourself', 'still', 'fifteen', 'they', 'perhaps', '’ll', 'make', 're', 'seeming', 'throughout', 'an', 'she', 'whoever', '‘ve', 'myself', 'have', 'might', 'bottom', 'during', 'others', 'via', 'three', 'must', 'really', 'if', 'keep', 'that', 'too', 'am', 'does', 'always', 'done', 'one', 'very', 'nowhere', 'thereupon', 'forty', '’m', 'them', 'had', 'whereafter', 'therefore', 'yours', 'mostly', 'themselves', 'serious', '‘s', 'above', 'somehow', 'unless', 'yet', 'four', 'however', 'those', 'this', 'between', 'empty', 'her', 'various', 'my', 'ten', 'anywhere', 'often', 'which', 'of', 'besides', 'neither', 'herself', 'side', 'whatever', \"'re\", 'against', 'amount', 'himself', 'can', 'five', 'seemed', 'never', 'herein', 'everywhere', 'please', 'about', 'while', 'do', 'two', 'become', 'latter', 'eight', 'top', 'us', 'eleven', 'ca', 'since', 'behind', 'anyway', 'whither', 'hers', 'but', 'any', 'thru', 'regarding', 'whose', 'somewhere', 'many', 'thereafter', 'onto', 'becoming', 'another', 'noone', 'amongst', 'now', 'some', 'nor', 'rather', 'take', 'anything', 'although', 'again', 'namely', 'whereas', 'a', '’s', 'say', 'see', 'twenty', 'him', 'their', 'either', 'no', 'third', 'with', 'has', 'among', 'when', '‘ll', 'move', 'elsewhere', 'could', 'even', 'same', 'get', 'here', 'after', 'hundred', 'around', 'for', 'we', 'else', 'though', 'other', 'nobody', 'as', '‘d', 'whereby', 'into', 'front', 'under', 'also', 'along', 'latterly', 'it', 'being', 'indeed', 'such', 'should', 'out', 'formerly', 'seems', 'former', 'beside', 'is', 'hence', 'until', 'once', 'on', 'most', 'up', 'who', 'nevertheless', 'name', 'n’t', 'only', 'was', 'enough', 'several', 'both', 'together', 'whether', 'next', 'than', 'how', 'part', 'beyond', 'he', 'six', 'toward', 'yourselves', 'these', 'nine', 'moreover', 'sixty', \"n't\", 'twelve', 'n‘t', 'sometimes', \"'d\", 'almost', 'whereupon', 'every', 'me', 'i', \"'s\", '’ve', 'full', 'from', 'his', 'wherein', 'our', 'would', 'afterwards', \"'m\", 'ourselves', 'therein', 'because', 'your', 'nothing', 'below', 'did', 'where', 'due', 'towards', 'are', 'each', 'may', 'everyone', 'whenever', 'wherever', 'quite', 'back', '’re', \"'ll\", 'not', 'its', 'been', 'before', 'alone', 'something', 'itself', 'so', 'off', 'put', 'anyhow', 'at', 'upon', 'by', 'be', 'using', 'seem', 'except', '’d', 'mine', 'hereupon', 'fifty', 'there', 'meanwhile', 'over', 'thence', 'whence', 'just', 'within', '‘re', 'sometime', 'someone', 'doing', 'to', 'becomes', 'further', 'none', 'call', 'few', 'without', 'own', 'thereby', 'thus', 'everything', 'what', 'first', 'show', 'hereby', 'ours'}\n"
     ]
    }
   ],
   "source": [
    "print(spacy_stopwords)"
   ]
  },
  {
   "cell_type": "code",
   "execution_count": 80,
   "metadata": {},
   "outputs": [],
   "source": [
    "all_words = [token for token in doc.sents]"
   ]
  },
  {
   "cell_type": "code",
   "execution_count": 81,
   "metadata": {},
   "outputs": [
    {
     "data": {
      "text/plain": [
       "False"
      ]
     },
     "execution_count": 81,
     "metadata": {},
     "output_type": "execute_result"
    }
   ],
   "source": [
    "all_words[0][2].is_stop"
   ]
  },
  {
   "cell_type": "code",
   "execution_count": 82,
   "metadata": {},
   "outputs": [],
   "source": [
    "for i in range(len(all_words)):\n",
    "    # if it's not a stop word or punctuation mark, add it to our article!\n",
    "    all_words[i] = [w.lemma_ for w in all_words[i] if not w.is_stop]"
   ]
  },
  {
   "cell_type": "code",
   "execution_count": 83,
   "metadata": {},
   "outputs": [
    {
     "name": "stdout",
     "output_type": "stream",
     "text": [
      "[[' ', 'computer', 'science', 'artificial', 'intelligence', 'ai', 'call', 'machine', 'intelligence', 'intelligence', 'demonstrate', 'machine', 'contrast', 'natural', 'intelligence', 'display', 'human', 'colloquially', 'term', 'artificial', 'intelligence', 'describe', 'machine', 'computer', 'mimic', 'cognitive', 'function', 'human', 'associate', 'human', 'mind', 'learning', 'problem', 'solve', 'machine', 'increasingly', 'capable', 'task', 'consider', 'require', 'intelligence', 'remove', 'definition', 'ai', 'phenomenon', 'know', 'ai', 'effect', 'quip', 'tesler', 's', 'theorem', 'say', 'ai', 'hasn', 't', 'instance', 'optical', 'character', 'recognition', 'frequently', 'exclude', 'thing', 'consider', 'ai', 'have', 'routine', 'technology', 'modern', 'machine', 'capability', 'generally', 'classify', 'ai', 'include', 'successfully', 'understand', 'human', 'speech', 'compete', 'high', 'level', 'strategic', 'game', 'system', 'chess', 'autonomously', 'operate', 'car', 'intelligent', 'route', 'content', 'delivery', 'network', 'military', 'simulation', 'artificial', 'intelligence', 'classify', 'different', 'type', 'system', 'analytical', 'human', 'inspire', 'humanize', 'artificial', 'intelligence', 'analytical', 'ai', 'characteristic', 'consistent', 'cognitive', 'intelligence', 'generate', 'cognitive', 'representation', 'world', 'learning', 'base', 'past', 'experience', 'inform', 'future', 'decision', 'human', 'inspire'], ['ai', 'element', 'cognitive', 'emotional', 'intelligence', 'understand', 'human', 'emotion', 'addition', 'cognitive', 'element', 'consider', 'decision', 'make', 'humanize'], ['ai', 'show', 'characteristic', 'type', 'competency']]\n"
     ]
    }
   ],
   "source": [
    "print(all_words[:3]) #list of lists"
   ]
  },
  {
   "cell_type": "markdown",
   "metadata": {},
   "source": [
    "### Creating Word2Vec Model"
   ]
  },
  {
   "cell_type": "code",
   "execution_count": 84,
   "metadata": {},
   "outputs": [],
   "source": [
    "from gensim.models import Word2Vec\n",
    "\n",
    "word2vec = Word2Vec(all_words, min_count=2) "
   ]
  },
  {
   "cell_type": "code",
   "execution_count": 85,
   "metadata": {},
   "outputs": [
    {
     "name": "stdout",
     "output_type": "stream",
     "text": [
      "1072\n",
      "{'computer': <gensim.models.keyedvectors.Vocab object at 0x7f040d33a7f0>, 'science': <gensim.models.keyedvectors.Vocab object at 0x7f040d33ad30>, 'artificial': <gensim.models.keyedvectors.Vocab object at 0x7f040d33a4e0>, 'intelligence': <gensim.models.keyedvectors.Vocab object at 0x7f040d33a400>, 'ai': <gensim.models.keyedvectors.Vocab object at 0x7f040d33a160>, 'call': <gensim.models.keyedvectors.Vocab object at 0x7f040d33a4a8>, 'machine': <gensim.models.keyedvectors.Vocab object at 0x7f040d33a278>, 'demonstrate': <gensim.models.keyedvectors.Vocab object at 0x7f040d33a978>, 'contrast': <gensim.models.keyedvectors.Vocab object at 0x7f040d33a470>, 'natural': <gensim.models.keyedvectors.Vocab object at 0x7f040d33a2b0>, 'display': <gensim.models.keyedvectors.Vocab object at 0x7f040d33a5c0>, 'human': <gensim.models.keyedvectors.Vocab object at 0x7f04a0102208>, 'term': <gensim.models.keyedvectors.Vocab object at 0x7f04a01028d0>, 'describe': <gensim.models.keyedvectors.Vocab object at 0x7f04\n"
     ]
    }
   ],
   "source": [
    "vocabulary = word2vec.wv.vocab  \n",
    "print(len(vocabulary))\n",
    "print(str(vocabulary)[:1000]) "
   ]
  },
  {
   "cell_type": "markdown",
   "metadata": {},
   "source": [
    "### Model Analysis"
   ]
  },
  {
   "cell_type": "code",
   "execution_count": 86,
   "metadata": {},
   "outputs": [],
   "source": [
    "v1 = word2vec.wv['artificial']   #vector for the word"
   ]
  },
  {
   "cell_type": "code",
   "execution_count": 87,
   "metadata": {},
   "outputs": [
    {
     "data": {
      "text/plain": [
       "array([-9.97054158e-04, -5.67443110e-03,  4.73376596e-03,  6.46916684e-03,\n",
       "        3.42766615e-03,  1.05634881e-02, -5.17138978e-03, -1.84900395e-03,\n",
       "        3.99134308e-03, -3.82927654e-04,  4.67345526e-04,  2.91405828e-04,\n",
       "       -5.51757123e-03, -6.96126546e-04,  1.07292354e-03, -5.95043786e-03,\n",
       "       -3.81669123e-03,  5.33969235e-03,  5.14143938e-03,  6.79642102e-03,\n",
       "        3.02482303e-03, -5.10393828e-03, -6.93727809e-04,  8.47232994e-03,\n",
       "        1.18590484e-03,  1.10257305e-02,  2.15685368e-03,  4.23949026e-03,\n",
       "       -4.51241992e-03, -1.77178264e-03,  6.84722140e-03,  5.79950213e-03,\n",
       "        7.85147597e-04,  4.78796847e-03,  6.70471834e-03,  7.12968176e-03,\n",
       "       -4.20010928e-03, -4.94495034e-03,  4.10841731e-03, -2.99831643e-03,\n",
       "       -9.86234169e-04, -3.89020517e-03, -4.64740954e-03,  3.43898707e-03,\n",
       "       -5.36990585e-03,  9.63625032e-03, -3.16595705e-03, -4.42175660e-03,\n",
       "       -6.91471808e-03, -2.94099608e-03, -9.93952737e-04, -1.26874400e-03,\n",
       "       -1.48194912e-03, -7.69086182e-03, -8.95376690e-03,  1.38938827e-02,\n",
       "        6.53767353e-03, -8.08552466e-03,  3.20172549e-04,  6.63296087e-03,\n",
       "        1.77825859e-03,  4.98779397e-03, -3.20098450e-04,  4.27434128e-03,\n",
       "       -1.00564789e-02,  8.51215981e-03,  7.84361851e-04, -1.91404601e-03,\n",
       "        1.39717618e-03,  3.20026348e-03,  1.87666994e-02,  3.71691748e-03,\n",
       "       -4.43291105e-03, -1.52947567e-03, -1.60148134e-03, -1.33477210e-03,\n",
       "        3.13819997e-04, -1.65109558e-03,  3.67729762e-03,  3.58100655e-03,\n",
       "        4.87305177e-03,  3.11576668e-03, -1.77004422e-05,  1.77880772e-03,\n",
       "       -5.65287843e-03, -3.83253500e-04,  2.86069670e-04,  4.79398528e-03,\n",
       "       -2.23083491e-03, -7.46953208e-03, -2.08109035e-03,  2.29483913e-03,\n",
       "       -1.91432587e-03,  4.47819149e-03,  5.24519361e-04,  2.76171439e-03,\n",
       "       -9.88138467e-03, -3.31448251e-03, -6.83981134e-03, -1.17104473e-02],\n",
       "      dtype=float32)"
      ]
     },
     "execution_count": 87,
     "metadata": {},
     "output_type": "execute_result"
    }
   ],
   "source": [
    "v1"
   ]
  },
  {
   "cell_type": "code",
   "execution_count": 88,
   "metadata": {},
   "outputs": [],
   "source": [
    "sim_words = word2vec.wv.most_similar('intelligence', topn=20)  "
   ]
  },
  {
   "cell_type": "code",
   "execution_count": 89,
   "metadata": {},
   "outputs": [
    {
     "data": {
      "text/plain": [
       "[('human', 0.7556136250495911),\n",
       " ('algorithm', 0.7451893091201782),\n",
       " ('risk', 0.7352930307388306),\n",
       " ('robot', 0.7122504711151123),\n",
       " ('ai', 0.7114468216896057),\n",
       " ('machine', 0.7037357687950134),\n",
       " ('problem', 0.6899410486221313),\n",
       " ('application', 0.6875265836715698),\n",
       " ('network', 0.6761336922645569),\n",
       " ('artificial', 0.6699583530426025),\n",
       " ('system', 0.6614025235176086),\n",
       " ('datum', 0.6601080894470215),\n",
       " ('neural', 0.6557859182357788),\n",
       " ('job', 0.6550028920173645),\n",
       " ('know', 0.6470203399658203),\n",
       " ('goal', 0.6362985372543335),\n",
       " ('research', 0.6319102048873901),\n",
       " ('agent', 0.6308556795120239),\n",
       " ('mind', 0.6254598498344421),\n",
       " ('example', 0.6252025365829468)]"
      ]
     },
     "execution_count": 89,
     "metadata": {},
     "output_type": "execute_result"
    }
   ],
   "source": [
    "sim_words"
   ]
  },
  {
   "cell_type": "markdown",
   "metadata": {},
   "source": [
    "# Trying to use the previous model with reddit data"
   ]
  },
  {
   "cell_type": "markdown",
   "metadata": {},
   "source": [
    "* Note: If you disable ner and parser, your code beacames 5 times faster"
   ]
  },
  {
   "cell_type": "code",
   "execution_count": 460,
   "metadata": {},
   "outputs": [],
   "source": [
    "import pandas as pd\n",
    "import re\n",
    "from gensim.models import Word2Vec\n",
    "import gensim\n",
    "import spacy\n",
    "nlp = spacy.load('en')"
   ]
  },
  {
   "cell_type": "code",
   "execution_count": 444,
   "metadata": {},
   "outputs": [],
   "source": [
    "df = pd.read_csv(\"./data/reddit/cm/FeMRA_comments.csv\")"
   ]
  },
  {
   "cell_type": "code",
   "execution_count": 445,
   "metadata": {},
   "outputs": [],
   "source": [
    "serie = df.Comment"
   ]
  },
  {
   "cell_type": "code",
   "execution_count": 446,
   "metadata": {},
   "outputs": [
    {
     "data": {
      "text/plain": [
       "0           Hello.\n",
       "1               Hi\n",
       "2    YAY! Content!\n",
       "3          Howdy! \n",
       "4        [deleted]\n",
       "Name: Comment, dtype: object"
      ]
     },
     "execution_count": 446,
     "metadata": {},
     "output_type": "execute_result"
    }
   ],
   "source": [
    "serie.head()"
   ]
  },
  {
   "cell_type": "code",
   "execution_count": 447,
   "metadata": {},
   "outputs": [
    {
     "data": {
      "text/plain": [
       "(2099,)"
      ]
     },
     "execution_count": 447,
     "metadata": {},
     "output_type": "execute_result"
    }
   ],
   "source": [
    "serie.shape"
   ]
  },
  {
   "cell_type": "code",
   "execution_count": 448,
   "metadata": {},
   "outputs": [
    {
     "data": {
      "text/plain": [
       "(2012,)"
      ]
     },
     "execution_count": 448,
     "metadata": {},
     "output_type": "execute_result"
    }
   ],
   "source": [
    "serie = serie[serie != '[deleted]']\n",
    "serie.shape"
   ]
  },
  {
   "cell_type": "code",
   "execution_count": 449,
   "metadata": {},
   "outputs": [],
   "source": [
    "my_stop_words = [u'say', u'\\s', u'Mr', u'be', u'said', u'says', u'saying', u's', u'’s', u'\\n\\n',\n",
    "                 u' ', u's', u'\\n', u't']\n",
    "for stopword in my_stop_words:\n",
    "    lexeme = nlp.vocab[stopword]\n",
    "    lexeme.is_stop = True"
   ]
  },
  {
   "cell_type": "code",
   "execution_count": 450,
   "metadata": {},
   "outputs": [],
   "source": [
    "stl= pd.Series.tolist(serie)"
   ]
  },
  {
   "cell_type": "code",
   "execution_count": 461,
   "metadata": {},
   "outputs": [
    {
     "name": "stdout",
     "output_type": "stream",
     "text": [
      "CPU times: user 1min 7s, sys: 481 ms, total: 1min 7s\n",
      "Wall time: 38.4 s\n"
     ]
    }
   ],
   "source": [
    "%%time\n",
    "texts, article, skl_texts = [], [], []\n",
    "for pre_comment in stl:\n",
    "    #if \"www\" in pre_comment: \n",
    "    #    continue\n",
    "    comment = pre_comment.lower()  \n",
    "    #comment = re.sub('[^a-zA-Z]', ' ', comment)  \n",
    "    #comment = re.sub(r'\\s+', ' ', comment)\n",
    "    try:\n",
    "        doc = nlp(comment)\n",
    "    except:\n",
    "        continue\n",
    "    for w in doc:\n",
    "        # if it's not a stop word or punctuation mark, add it to our article!\n",
    "        if not w.is_stop or not w.is_punct:\n",
    "            # we add the lematized version of the word\n",
    "            article.append(w.lemma_)\n",
    "        # assume each comment as a document\n",
    "        if w.text == doc[-1].text:\n",
    "            skl_texts.append(' '.join(article))\n",
    "            texts.append(article)\n",
    "            article = []"
   ]
  },
  {
   "cell_type": "code",
   "execution_count": 434,
   "metadata": {},
   "outputs": [
    {
     "data": {
      "text/plain": [
       "[['hello', '.'],\n",
       " ['hi'],\n",
       " ['yay', '!'],\n",
       " ['content', '!'],\n",
       " ['howdy', '!'],\n",
       " ['sound',\n",
       "  'great',\n",
       "  '.',\n",
       "  '\"',\n",
       "  'the',\n",
       "  'red',\n",
       "  'pill',\n",
       "  '\"',\n",
       "  'would',\n",
       "  'a',\n",
       "  'perfect',\n",
       "  'name',\n",
       "  'for',\n",
       "  'this']]"
      ]
     },
     "execution_count": 434,
     "metadata": {},
     "output_type": "execute_result"
    }
   ],
   "source": [
    "texts[:6]"
   ]
  },
  {
   "cell_type": "code",
   "execution_count": 435,
   "metadata": {},
   "outputs": [
    {
     "name": "stderr",
     "output_type": "stream",
     "text": [
      "INFO - 20:42:24: collecting all words and their counts\n",
      "INFO - 20:42:24: PROGRESS: at sentence #0, processed 0 words and 0 word types\n",
      "INFO - 20:42:24: collected 72197 word types from a corpus of 190030 words (unigram + bigrams) and 7451 sentences\n",
      "INFO - 20:42:24: using 72197 counts as vocab in Phrases<0 vocab, min_count=5, threshold=10.0, max_vocab_size=40000000>\n"
     ]
    }
   ],
   "source": [
    "bigram = gensim.models.Phrases(texts)"
   ]
  },
  {
   "cell_type": "code",
   "execution_count": 436,
   "metadata": {},
   "outputs": [],
   "source": [
    "texts = [bigram[line] for line in texts]"
   ]
  },
  {
   "cell_type": "code",
   "execution_count": 437,
   "metadata": {},
   "outputs": [
    {
     "name": "stderr",
     "output_type": "stream",
     "text": [
      "INFO - 20:42:27: collecting all words and their counts\n",
      "INFO - 20:42:27: PROGRESS: at sentence #0, processed 0 words, keeping 0 word types\n",
      "INFO - 20:42:27: collected 9249 word types from a corpus of 182412 raw words and 7451 sentences\n",
      "INFO - 20:42:27: Loading a fresh vocabulary\n",
      "INFO - 20:42:27: effective_min_count=2 retains 5187 unique words (56% of original 9249, drops 4062)\n",
      "INFO - 20:42:27: effective_min_count=2 leaves 178350 word corpus (97% of original 182412, drops 4062)\n",
      "INFO - 20:42:27: deleting the raw counts dictionary of 9249 items\n",
      "INFO - 20:42:27: sample=0.001 downsamples 49 most-common words\n",
      "INFO - 20:42:27: downsampling leaves estimated 113318 word corpus (63.5% of prior 178350)\n",
      "INFO - 20:42:27: estimated required memory for 5187 words and 100 dimensions: 6743100 bytes\n",
      "INFO - 20:42:27: resetting layer weights\n",
      "INFO - 20:42:27: training model with 3 workers on 5187 vocabulary and 100 features, using sg=0 hs=0 sample=0.001 negative=5 window=5\n",
      "INFO - 20:42:27: worker thread finished; awaiting finish of 2 more threads\n",
      "INFO - 20:42:27: worker thread finished; awaiting finish of 1 more threads\n",
      "INFO - 20:42:27: worker thread finished; awaiting finish of 0 more threads\n",
      "INFO - 20:42:27: EPOCH - 1 : training on 182412 raw words (113361 effective words) took 0.1s, 1052027 effective words/s\n",
      "INFO - 20:42:27: worker thread finished; awaiting finish of 2 more threads\n",
      "INFO - 20:42:27: worker thread finished; awaiting finish of 1 more threads\n",
      "INFO - 20:42:27: worker thread finished; awaiting finish of 0 more threads\n",
      "INFO - 20:42:27: EPOCH - 2 : training on 182412 raw words (113364 effective words) took 0.1s, 1036702 effective words/s\n",
      "INFO - 20:42:27: worker thread finished; awaiting finish of 2 more threads\n",
      "INFO - 20:42:27: worker thread finished; awaiting finish of 1 more threads\n",
      "INFO - 20:42:27: worker thread finished; awaiting finish of 0 more threads\n",
      "INFO - 20:42:27: EPOCH - 3 : training on 182412 raw words (113399 effective words) took 0.1s, 1111345 effective words/s\n",
      "INFO - 20:42:27: worker thread finished; awaiting finish of 2 more threads\n",
      "INFO - 20:42:27: worker thread finished; awaiting finish of 1 more threads\n",
      "INFO - 20:42:27: worker thread finished; awaiting finish of 0 more threads\n",
      "INFO - 20:42:27: EPOCH - 4 : training on 182412 raw words (113497 effective words) took 0.1s, 1004080 effective words/s\n",
      "INFO - 20:42:27: worker thread finished; awaiting finish of 2 more threads\n",
      "INFO - 20:42:27: worker thread finished; awaiting finish of 1 more threads\n",
      "INFO - 20:42:27: worker thread finished; awaiting finish of 0 more threads\n",
      "INFO - 20:42:27: EPOCH - 5 : training on 182412 raw words (113327 effective words) took 0.1s, 1062641 effective words/s\n",
      "INFO - 20:42:27: training on a 912060 raw words (566948 effective words) took 0.6s, 996348 effective words/s\n"
     ]
    }
   ],
   "source": [
    "word2vec = Word2Vec(texts, min_count=2) "
   ]
  },
  {
   "cell_type": "code",
   "execution_count": 438,
   "metadata": {},
   "outputs": [
    {
     "name": "stdout",
     "output_type": "stream",
     "text": [
      "5187\n",
      "{'hello': <gensim.models.keyedvectors.Vocab object at 0x7f03edbeb710>, '.': <gensim.models.keyedvectors.Vocab object at 0x7f03eef3ac88>, 'hi': <gensim.models.keyedvectors.Vocab object at 0x7f03eef3ad30>, 'yay': <gensim.models.keyedvectors.Vocab object at 0x7f03eef3ac50>, '!': <gensim.models.keyedvectors.Vocab object at 0x7f03eef3ab70>, 'content': <gensim.models.keyedvectors.Vocab object at 0x7f03eef3acf8>, 'sound': <gensim.models.keyedvectors.Vocab object at 0x7f03eef3add8>, 'great': <gensim.mod\n"
     ]
    }
   ],
   "source": [
    "vocabulary = word2vec.wv.vocab  \n",
    "print(len(vocabulary))\n",
    "print(str(vocabulary)[:500])"
   ]
  },
  {
   "cell_type": "code",
   "execution_count": 439,
   "metadata": {},
   "outputs": [
    {
     "data": {
      "text/plain": [
       "array([-0.0502969 , -0.05472563, -0.09997213,  0.03597944, -0.04375872,\n",
       "       -0.05938289,  0.07161834, -0.15755245, -0.09445828,  0.05766353,\n",
       "       -0.1019444 , -0.03682834, -0.00787158, -0.0574638 ,  0.0507779 ,\n",
       "       -0.07349428,  0.05149293, -0.0153074 ,  0.03948465,  0.04562663,\n",
       "       -0.1011766 , -0.07236286, -0.18862838,  0.03507818, -0.01514349,\n",
       "       -0.06019514, -0.12121388,  0.05983423, -0.07824365,  0.04473707,\n",
       "       -0.0501647 ,  0.04446527,  0.17864989, -0.21898144, -0.09700459,\n",
       "       -0.03376517,  0.01493186,  0.06462295,  0.08818126, -0.11598817,\n",
       "        0.02346403, -0.04456222, -0.02568737, -0.02751389,  0.07956627,\n",
       "       -0.02174798,  0.00509575,  0.13090359, -0.07021646,  0.07782699,\n",
       "        0.06448198, -0.09240344, -0.01247212,  0.16154248,  0.05126292,\n",
       "       -0.02598712, -0.07864497,  0.0953067 , -0.03132232,  0.03115742,\n",
       "        0.14196953, -0.06028003,  0.01535689, -0.07900739, -0.08041897,\n",
       "        0.1773011 ,  0.06334376, -0.0555732 , -0.03254937,  0.14599195,\n",
       "        0.3253922 ,  0.13952771,  0.0649891 ,  0.07211061, -0.03207492,\n",
       "       -0.03698768, -0.12412655, -0.03388488,  0.05389701,  0.07309874,\n",
       "       -0.04159372,  0.07532952, -0.02657818, -0.1761768 , -0.03823462,\n",
       "       -0.00958332,  0.00442281,  0.09445859, -0.039297  , -0.03321987,\n",
       "       -0.05526405, -0.08132062, -0.07780887,  0.02899017, -0.02957781,\n",
       "        0.19613057,  0.04313477,  0.09112532, -0.22345425, -0.07942016],\n",
       "      dtype=float32)"
      ]
     },
     "execution_count": 439,
     "metadata": {},
     "output_type": "execute_result"
    }
   ],
   "source": [
    "v1 = word2vec.wv['men']   #vector for the word\n",
    "v1"
   ]
  },
  {
   "cell_type": "code",
   "execution_count": 440,
   "metadata": {},
   "outputs": [
    {
     "name": "stderr",
     "output_type": "stream",
     "text": [
      "INFO - 20:42:35: precomputing L2-norms of word weight vectors\n"
     ]
    },
    {
     "data": {
      "text/plain": [
       "[('self_-', 0.9993945360183716),\n",
       " ('bullshit', 0.9993448257446289),\n",
       " ('create', 0.999342143535614),\n",
       " ('’s', 0.999341607093811),\n",
       " ('another', 0.9993298053741455),\n",
       " ('many', 0.9993183016777039),\n",
       " ('better', 0.9993162155151367),\n",
       " ('attempt_to', 0.9993036389350891),\n",
       " ('great', 0.9993008375167847),\n",
       " ('base_on', 0.9992946982383728),\n",
       " ('new', 0.9992934465408325),\n",
       " ('bring', 0.9992915987968445),\n",
       " ('essentially', 0.9992828965187073),\n",
       " ('marriage', 0.9992827773094177),\n",
       " ('certain', 0.9992818236351013),\n",
       " ('today', 0.9992729425430298),\n",
       " ('contribute', 0.9992728233337402),\n",
       " ('come_from', 0.9992711544036865),\n",
       " ('base', 0.9992627501487732),\n",
       " ('difference', 0.9992618560791016)]"
      ]
     },
     "execution_count": 440,
     "metadata": {},
     "output_type": "execute_result"
    }
   ],
   "source": [
    "sim_words = word2vec.wv.most_similar('men', topn=20)  \n",
    "sim_words"
   ]
  },
  {
   "cell_type": "code",
   "execution_count": 441,
   "metadata": {},
   "outputs": [
    {
     "data": {
      "text/plain": [
       "[('man', 0.9981147646903992),\n",
       " ('nature', 0.9957152605056763),\n",
       " ('provision', 0.9954695701599121),\n",
       " ('one', 0.9953712224960327),\n",
       " ('line', 0.995339035987854),\n",
       " ('view', 0.9952353239059448),\n",
       " ('number', 0.9952041506767273),\n",
       " ('centre', 0.995201587677002),\n",
       " ('other', 0.9950053691864014),\n",
       " ('place', 0.9949823617935181),\n",
       " ('interest', 0.9949676394462585),\n",
       " ('hypoagency', 0.9948750138282776),\n",
       " ('destruction', 0.9948247671127319),\n",
       " ('manipulation', 0.9947408437728882),\n",
       " ('crime', 0.9947367906570435),\n",
       " ('gang', 0.9947317838668823),\n",
       " ('over', 0.9947237968444824),\n",
       " ('wealth', 0.9946460723876953),\n",
       " ('low', 0.9946157932281494),\n",
       " ('world', 0.994604229927063)]"
      ]
     },
     "execution_count": 441,
     "metadata": {},
     "output_type": "execute_result"
    }
   ],
   "source": [
    "sim_words = word2vec.wv.most_similar('woman', topn=20)  \n",
    "sim_words"
   ]
  },
  {
   "cell_type": "code",
   "execution_count": 442,
   "metadata": {},
   "outputs": [
    {
     "data": {
      "text/plain": [
       "[('due_to', 0.9997522830963135),\n",
       " ('rather_than', 0.999733567237854),\n",
       " ('follow', 0.9997286200523376),\n",
       " ('behavior', 0.9997278451919556),\n",
       " ('regard', 0.9997208118438721),\n",
       " ('quote', 0.9997186660766602),\n",
       " ('masculine', 0.999717116355896),\n",
       " ('state', 0.9997075200080872),\n",
       " ('into', 0.9997029304504395),\n",
       " ('action', 0.9997023344039917),\n",
       " ('conservative', 0.9996956586837769),\n",
       " ('liberal', 0.9996950626373291),\n",
       " ('risk', 0.9996812343597412),\n",
       " ('example', 0.9996806979179382),\n",
       " ('brain', 0.9996720552444458),\n",
       " ('therefore', 0.9996675252914429),\n",
       " ('a_bit', 0.9996662139892578),\n",
       " ('year', 0.9996643662452698),\n",
       " ('mangina', 0.9996510148048401),\n",
       " ('long', 0.9996464252471924)]"
      ]
     },
     "execution_count": 442,
     "metadata": {},
     "output_type": "execute_result"
    }
   ],
   "source": [
    "sim_words = word2vec.wv.most_similar('rape', topn=20)  \n",
    "sim_words"
   ]
  },
  {
   "cell_type": "markdown",
   "metadata": {},
   "source": [
    "### Other cleaner way"
   ]
  },
  {
   "cell_type": "code",
   "execution_count": 166,
   "metadata": {},
   "outputs": [],
   "source": [
    "import re  # For preprocessing\n",
    "import pandas as pd  # For data handling\n",
    "from time import time  # To time our operations\n",
    "from collections import defaultdict  # For word frequency\n",
    "\n",
    "import spacy  # For preprocessing\n",
    "\n",
    "import logging  # Setting up the loggings to monitor gensim\n",
    "logging.basicConfig(format=\"%(levelname)s - %(asctime)s: %(message)s\", datefmt= '%H:%M:%S', level=logging.INFO)"
   ]
  },
  {
   "cell_type": "code",
   "execution_count": 462,
   "metadata": {},
   "outputs": [],
   "source": [
    "df = pd.read_csv(\"./data/reddit/cm/FeMRA_comments.csv\")"
   ]
  },
  {
   "cell_type": "code",
   "execution_count": 463,
   "metadata": {},
   "outputs": [
    {
     "data": {
      "text/html": [
       "<div>\n",
       "<style scoped>\n",
       "    .dataframe tbody tr th:only-of-type {\n",
       "        vertical-align: middle;\n",
       "    }\n",
       "\n",
       "    .dataframe tbody tr th {\n",
       "        vertical-align: top;\n",
       "    }\n",
       "\n",
       "    .dataframe thead th {\n",
       "        text-align: right;\n",
       "    }\n",
       "</style>\n",
       "<table border=\"1\" class=\"dataframe\">\n",
       "  <thead>\n",
       "    <tr style=\"text-align: right;\">\n",
       "      <th></th>\n",
       "      <th>ID</th>\n",
       "      <th>Comment</th>\n",
       "      <th>Author</th>\n",
       "      <th>Score</th>\n",
       "      <th>Parent id</th>\n",
       "      <th>Publish Date</th>\n",
       "    </tr>\n",
       "  </thead>\n",
       "  <tbody>\n",
       "    <tr>\n",
       "      <th>0</th>\n",
       "      <td>c5k0m3w</td>\n",
       "      <td>Hello.</td>\n",
       "      <td>AgentmraOrangemrm</td>\n",
       "      <td>10</td>\n",
       "      <td>t3_x83uj</td>\n",
       "      <td>2012-07-26 23:03:21</td>\n",
       "    </tr>\n",
       "    <tr>\n",
       "      <th>1</th>\n",
       "      <td>c5k0nup</td>\n",
       "      <td>Hi</td>\n",
       "      <td>MaunaLoona</td>\n",
       "      <td>9</td>\n",
       "      <td>t3_x83uj</td>\n",
       "      <td>2012-07-26 23:06:36</td>\n",
       "    </tr>\n",
       "    <tr>\n",
       "      <th>2</th>\n",
       "      <td>c5k1cvp</td>\n",
       "      <td>YAY! Content!</td>\n",
       "      <td>MrStonedOne</td>\n",
       "      <td>-2</td>\n",
       "      <td>t3_x86d8</td>\n",
       "      <td>2012-07-26 23:51:55</td>\n",
       "    </tr>\n",
       "    <tr>\n",
       "      <th>3</th>\n",
       "      <td>c5k1di0</td>\n",
       "      <td>Howdy!</td>\n",
       "      <td>girlwriteswhat</td>\n",
       "      <td>8</td>\n",
       "      <td>t3_x83uj</td>\n",
       "      <td>2012-07-26 23:53:04</td>\n",
       "    </tr>\n",
       "    <tr>\n",
       "      <th>4</th>\n",
       "      <td>c5k2257</td>\n",
       "      <td>[deleted]</td>\n",
       "      <td>[deleted]</td>\n",
       "      <td>1</td>\n",
       "      <td>t3_x83uj</td>\n",
       "      <td>2012-07-27 00:38:41</td>\n",
       "    </tr>\n",
       "  </tbody>\n",
       "</table>\n",
       "</div>"
      ],
      "text/plain": [
       "        ID        Comment             Author  Score Parent id  \\\n",
       "0  c5k0m3w         Hello.  AgentmraOrangemrm     10  t3_x83uj   \n",
       "1  c5k0nup             Hi         MaunaLoona      9  t3_x83uj   \n",
       "2  c5k1cvp  YAY! Content!        MrStonedOne     -2  t3_x86d8   \n",
       "3  c5k1di0        Howdy!      girlwriteswhat      8  t3_x83uj   \n",
       "4  c5k2257      [deleted]          [deleted]      1  t3_x83uj   \n",
       "\n",
       "          Publish Date  \n",
       "0  2012-07-26 23:03:21  \n",
       "1  2012-07-26 23:06:36  \n",
       "2  2012-07-26 23:51:55  \n",
       "3  2012-07-26 23:53:04  \n",
       "4  2012-07-27 00:38:41  "
      ]
     },
     "execution_count": 463,
     "metadata": {},
     "output_type": "execute_result"
    }
   ],
   "source": [
    "df.head()"
   ]
  },
  {
   "cell_type": "code",
   "execution_count": 464,
   "metadata": {},
   "outputs": [
    {
     "data": {
      "text/plain": [
       "ID              0\n",
       "Comment         0\n",
       "Author          0\n",
       "Score           0\n",
       "Parent id       0\n",
       "Publish Date    0\n",
       "dtype: int64"
      ]
     },
     "execution_count": 464,
     "metadata": {},
     "output_type": "execute_result"
    }
   ],
   "source": [
    "df.isnull().sum()"
   ]
  },
  {
   "cell_type": "code",
   "execution_count": 470,
   "metadata": {},
   "outputs": [],
   "source": [
    "def cleaning(doc):\n",
    "    # Lemmatizes and removes stopwords\n",
    "    # doc needs to be a spacy Doc object\n",
    "    txt = [token.lemma_ for token in doc if not token.is_stop]\n",
    "    # Word2Vec uses context words to learn the vector representation of a target word,\n",
    "    # if a sentence is only one or two words long,\n",
    "    # the benefit for the training is very small\n",
    "    if len(txt) > 2:\n",
    "        return ' '.join(txt)"
   ]
  },
  {
   "cell_type": "code",
   "execution_count": 471,
   "metadata": {},
   "outputs": [],
   "source": [
    "brief_cleaning = (re.sub(\"[^A-Za-z']+\", ' ', str(row)).lower() for row in df['Comment'])"
   ]
  },
  {
   "cell_type": "code",
   "execution_count": 472,
   "metadata": {},
   "outputs": [
    {
     "name": "stdout",
     "output_type": "stream",
     "text": [
      "Time to clean up everything: 0.34 mins\n"
     ]
    }
   ],
   "source": [
    "t = time()\n",
    "\n",
    "txt = [cleaning(doc) for doc in nlp.pipe(brief_cleaning, batch_size=5000, n_threads=-1)]\n",
    "\n",
    "print('Time to clean up everything: {} mins'.format(round((time() - t) / 60, 2)))"
   ]
  },
  {
   "cell_type": "code",
   "execution_count": 485,
   "metadata": {},
   "outputs": [
    {
     "data": {
      "text/plain": [
       "(2099, 1)"
      ]
     },
     "execution_count": 485,
     "metadata": {},
     "output_type": "execute_result"
    }
   ],
   "source": [
    "df_clean = pd.DataFrame({'clean': txt})\n",
    "df_clean.shape"
   ]
  },
  {
   "cell_type": "code",
   "execution_count": 482,
   "metadata": {},
   "outputs": [
    {
     "data": {
      "text/plain": [
       "(1867, 1)"
      ]
     },
     "execution_count": 482,
     "metadata": {},
     "output_type": "execute_result"
    }
   ],
   "source": [
    "df_clean = df_clean.dropna().drop_duplicates()\n",
    "df_clean.shape"
   ]
  },
  {
   "cell_type": "code",
   "execution_count": 260,
   "metadata": {},
   "outputs": [],
   "source": [
    "from gensim.models.phrases import Phrases, Phraser"
   ]
  },
  {
   "cell_type": "code",
   "execution_count": 261,
   "metadata": {},
   "outputs": [],
   "source": [
    "sent = [row.split() for row in df_clean['clean']]"
   ]
  },
  {
   "cell_type": "code",
   "execution_count": 262,
   "metadata": {},
   "outputs": [
    {
     "name": "stderr",
     "output_type": "stream",
     "text": [
      "INFO - 17:38:48: collecting all words and their counts\n",
      "INFO - 17:38:48: PROGRESS: at sentence #0, processed 0 words and 0 word types\n",
      "INFO - 17:38:49: PROGRESS: at sentence #10000, processed 446991 words and 285296 word types\n",
      "INFO - 17:38:49: collected 340298 word types from a corpus of 545414 words (unigram + bigrams) and 12734 sentences\n",
      "INFO - 17:38:49: using 340298 counts as vocab in Phrases<0 vocab, min_count=30, threshold=10.0, max_vocab_size=40000000>\n"
     ]
    }
   ],
   "source": [
    "phrases = Phrases(sent, min_count=30, progress_per=10000)"
   ]
  },
  {
   "cell_type": "code",
   "execution_count": 263,
   "metadata": {},
   "outputs": [],
   "source": [
    "sentences = bigram[sent]"
   ]
  },
  {
   "cell_type": "code",
   "execution_count": 264,
   "metadata": {},
   "outputs": [
    {
     "data": {
      "text/plain": [
       "21872"
      ]
     },
     "execution_count": 264,
     "metadata": {},
     "output_type": "execute_result"
    }
   ],
   "source": [
    "word_freq = defaultdict(int)\n",
    "for sent in sentences:\n",
    "    for i in sent:\n",
    "        word_freq[i] += 1\n",
    "len(word_freq)"
   ]
  },
  {
   "cell_type": "code",
   "execution_count": 351,
   "metadata": {},
   "outputs": [
    {
     "data": {
      "text/plain": [
       "['man',\n",
       " 'woman',\n",
       " 'feminist',\n",
       " 'think',\n",
       " 'people',\n",
       " 'like',\n",
       " 'rape',\n",
       " 'male',\n",
       " \"'\",\n",
       " 'say',\n",
       " 'thing']"
      ]
     },
     "execution_count": 351,
     "metadata": {},
     "output_type": "execute_result"
    }
   ],
   "source": [
    "sorted(word_freq, key=word_freq.get, reverse=True)[:11]"
   ]
  },
  {
   "cell_type": "code",
   "execution_count": 266,
   "metadata": {},
   "outputs": [],
   "source": [
    "import multiprocessing\n",
    "\n",
    "from gensim.models import Word2Vec"
   ]
  },
  {
   "cell_type": "code",
   "execution_count": 267,
   "metadata": {},
   "outputs": [
    {
     "data": {
      "text/plain": [
       "4"
      ]
     },
     "execution_count": 267,
     "metadata": {},
     "output_type": "execute_result"
    }
   ],
   "source": [
    "cores = multiprocessing.cpu_count() # Count the number of cores in a computer\n",
    "cores"
   ]
  },
  {
   "cell_type": "code",
   "execution_count": 268,
   "metadata": {},
   "outputs": [],
   "source": [
    "w2v_model = Word2Vec(min_count=2,\n",
    "                     window=2,\n",
    "                     size=300,\n",
    "                     sample=6e-5, \n",
    "                     alpha=0.03, \n",
    "                     min_alpha=0.0007, \n",
    "                     negative=20,\n",
    "                     workers=cores-1)"
   ]
  },
  {
   "cell_type": "code",
   "execution_count": 269,
   "metadata": {},
   "outputs": [
    {
     "name": "stderr",
     "output_type": "stream",
     "text": [
      "INFO - 17:39:02: collecting all words and their counts\n",
      "INFO - 17:39:02: PROGRESS: at sentence #0, processed 0 words, keeping 0 word types\n",
      "INFO - 17:39:04: PROGRESS: at sentence #10000, processed 443953 words, keeping 19373 word types\n",
      "INFO - 17:39:04: collected 21872 word types from a corpus of 541818 raw words and 12734 sentences\n",
      "INFO - 17:39:04: Loading a fresh vocabulary\n",
      "INFO - 17:39:04: effective_min_count=2 retains 13184 unique words (60% of original 21872, drops 8688)\n",
      "INFO - 17:39:04: effective_min_count=2 leaves 533130 word corpus (98% of original 541818, drops 8688)\n",
      "INFO - 17:39:04: deleting the raw counts dictionary of 21872 items\n",
      "INFO - 17:39:04: sample=6e-05 downsamples 1126 most-common words\n",
      "INFO - 17:39:04: downsampling leaves estimated 275793 word corpus (51.7% of prior 533130)\n",
      "INFO - 17:39:04: estimated required memory for 13184 words and 300 dimensions: 38233600 bytes\n",
      "INFO - 17:39:04: resetting layer weights\n"
     ]
    },
    {
     "name": "stdout",
     "output_type": "stream",
     "text": [
      "Time to build vocab: 0.03 mins\n"
     ]
    }
   ],
   "source": [
    "t = time()\n",
    "\n",
    "w2v_model.build_vocab(sentences, progress_per=10000)\n",
    "\n",
    "print('Time to build vocab: {} mins'.format(round((time() - t) / 60, 2)))"
   ]
  },
  {
   "cell_type": "code",
   "execution_count": null,
   "metadata": {},
   "outputs": [],
   "source": [
    "t = time()\n",
    "\n",
    "w2v_model.train(sentences, total_examples=w2v_model.corpus_count, epochs=30, report_delay=1)\n",
    "\n",
    "print('Time to train the model: {} mins'.format(round((time() - t) / 60, 2)))"
   ]
  },
  {
   "cell_type": "code",
   "execution_count": 271,
   "metadata": {},
   "outputs": [
    {
     "name": "stderr",
     "output_type": "stream",
     "text": [
      "INFO - 17:41:10: precomputing L2-norms of word weight vectors\n"
     ]
    }
   ],
   "source": [
    "w2v_model.init_sims(replace=True)"
   ]
  },
  {
   "cell_type": "code",
   "execution_count": 306,
   "metadata": {},
   "outputs": [
    {
     "data": {
      "text/plain": [
       "[('woman', 0.8451344966888428),\n",
       " ('structurally', 0.6811049580574036),\n",
       " ('victimize', 0.6680270433425903),\n",
       " ('society', 0.6596343517303467),\n",
       " ('gtwoman', 0.6468037366867065),\n",
       " ('needy', 0.6452990174293518),\n",
       " ('escape', 0.6452826261520386),\n",
       " ('gtthey', 0.641480028629303),\n",
       " ('supposedly', 0.6412408947944641),\n",
       " ('vulnerable', 0.6405637264251709)]"
      ]
     },
     "execution_count": 306,
     "metadata": {},
     "output_type": "execute_result"
    }
   ],
   "source": [
    "w2v_model.wv.most_similar(positive=[\"man\"])"
   ]
  },
  {
   "cell_type": "code",
   "execution_count": 274,
   "metadata": {},
   "outputs": [
    {
     "data": {
      "text/plain": [
       "[('man', 0.8451343774795532),\n",
       " ('gtwoman', 0.703230619430542),\n",
       " ('equally', 0.6597973108291626),\n",
       " ('structurally', 0.6581504344940186),\n",
       " ('coddle', 0.6393565535545349),\n",
       " ('minimal', 0.6377238631248474),\n",
       " ('vulnerable', 0.6370515823364258),\n",
       " ('reluctance', 0.6368145942687988),\n",
       " ('victimize', 0.6361147165298462),\n",
       " ('gtthey', 0.6333913207054138)]"
      ]
     },
     "execution_count": 274,
     "metadata": {},
     "output_type": "execute_result"
    }
   ],
   "source": [
    "w2v_model.wv.most_similar(positive=[\"woman\"])"
   ]
  },
  {
   "cell_type": "code",
   "execution_count": 307,
   "metadata": {},
   "outputs": [
    {
     "data": {
      "text/plain": [
       "[('establishment', 0.7919732332229614),\n",
       " ('sinister', 0.7701532244682312),\n",
       " ('oppose', 0.7701259255409241),\n",
       " ('follower', 0.7695099115371704),\n",
       " ('ideologue', 0.7677175998687744),\n",
       " ('expressly', 0.762833833694458),\n",
       " ('hijack', 0.7583426237106323),\n",
       " ('extremist', 0.7562097311019897),\n",
       " ('mra', 0.7536331415176392),\n",
       " ('traditionalist', 0.7517756223678589)]"
      ]
     },
     "execution_count": 307,
     "metadata": {},
     "output_type": "execute_result"
    }
   ],
   "source": [
    "w2v_model.wv.most_similar(positive=[\"feminist\"])"
   ]
  },
  {
   "cell_type": "code",
   "execution_count": 276,
   "metadata": {},
   "outputs": [
    {
     "data": {
      "text/plain": [
       "[('flame', 0.9078064560890198),\n",
       " ('neckbeard', 0.9006756544113159),\n",
       " ('fling', 0.8919163942337036),\n",
       " ('whiny', 0.8908308148384094),\n",
       " ('hungry', 0.8809104561805725),\n",
       " ('abrasive', 0.877448558807373),\n",
       " ('vibe', 0.8757095336914062),\n",
       " ('frontpage', 0.8730295896530151),\n",
       " ('moan', 0.8716814517974854),\n",
       " ('dwelling', 0.8716166615486145)]"
      ]
     },
     "execution_count": 276,
     "metadata": {},
     "output_type": "execute_result"
    }
   ],
   "source": [
    "w2v_model.wv.most_similar(positive=[\"incel\"])"
   ]
  },
  {
   "cell_type": "code",
   "execution_count": 325,
   "metadata": {},
   "outputs": [
    {
     "data": {
      "text/plain": [
       "[('mensright', 0.8554102778434753),\n",
       " ('humanism', 0.842522144317627),\n",
       " ('r', 0.8385185599327087),\n",
       " ('px', 0.8229912519454956),\n",
       " ('askfeminist', 0.8118565678596497),\n",
       " ('reddit', 0.8069695234298706),\n",
       " ('egalitarianism', 0.801781415939331),\n",
       " ('sub', 0.796673595905304),\n",
       " ('subscribe', 0.7954368591308594),\n",
       " ('genderegalitarian', 0.7953689098358154)]"
      ]
     },
     "execution_count": 325,
     "metadata": {},
     "output_type": "execute_result"
    }
   ],
   "source": [
    "w2v_model.wv.most_similar(positive=[\"masculism\"])"
   ]
  },
  {
   "cell_type": "code",
   "execution_count": 346,
   "metadata": {},
   "outputs": [
    {
     "data": {
      "text/plain": [
       "0.60773104"
      ]
     },
     "execution_count": 346,
     "metadata": {},
     "output_type": "execute_result"
    }
   ],
   "source": [
    "w2v_model.wv.similarity(\"mra\", \"masculism\")"
   ]
  },
  {
   "cell_type": "code",
   "execution_count": 347,
   "metadata": {},
   "outputs": [
    {
     "data": {
      "text/plain": [
       "0.65626246"
      ]
     },
     "execution_count": 347,
     "metadata": {},
     "output_type": "execute_result"
    }
   ],
   "source": [
    "w2v_model.wv.similarity(\"mra\", \"mgtow\")"
   ]
  },
  {
   "cell_type": "code",
   "execution_count": 344,
   "metadata": {},
   "outputs": [
    {
     "data": {
      "text/plain": [
       "0.5404325"
      ]
     },
     "execution_count": 344,
     "metadata": {},
     "output_type": "execute_result"
    }
   ],
   "source": [
    "w2v_model.wv.similarity(\"mra\", \"incel\")"
   ]
  },
  {
   "cell_type": "code",
   "execution_count": 286,
   "metadata": {},
   "outputs": [
    {
     "data": {
      "text/plain": [
       "0.7815511"
      ]
     },
     "execution_count": 286,
     "metadata": {},
     "output_type": "execute_result"
    }
   ],
   "source": [
    "w2v_model.wv.similarity(\"incel\", \"mgtow\")"
   ]
  },
  {
   "cell_type": "code",
   "execution_count": 384,
   "metadata": {},
   "outputs": [
    {
     "data": {
      "text/plain": [
       "0.83452"
      ]
     },
     "execution_count": 384,
     "metadata": {},
     "output_type": "execute_result"
    }
   ],
   "source": [
    "w2v_model.wv.similarity(\"redpill\", \"mgtow\")"
   ]
  },
  {
   "cell_type": "code",
   "execution_count": 385,
   "metadata": {},
   "outputs": [
    {
     "data": {
      "text/plain": [
       "0.7257017"
      ]
     },
     "execution_count": 385,
     "metadata": {},
     "output_type": "execute_result"
    }
   ],
   "source": [
    "w2v_model.wv.similarity(\"redpill\", \"mra\")"
   ]
  },
  {
   "cell_type": "code",
   "execution_count": 280,
   "metadata": {},
   "outputs": [
    {
     "data": {
      "text/plain": [
       "-0.059593476"
      ]
     },
     "execution_count": 280,
     "metadata": {},
     "output_type": "execute_result"
    }
   ],
   "source": [
    "w2v_model.wv.similarity(\"mra\", \"house\")"
   ]
  },
  {
   "cell_type": "code",
   "execution_count": 383,
   "metadata": {},
   "outputs": [
    {
     "data": {
      "text/plain": [
       "'mensright'"
      ]
     },
     "execution_count": 383,
     "metadata": {},
     "output_type": "execute_result"
    }
   ],
   "source": [
    "w2v_model.wv.doesnt_match(['incel', 'mgtow', 'mra', 'mensright', 'redpill'])"
   ]
  },
  {
   "cell_type": "code",
   "execution_count": 348,
   "metadata": {},
   "outputs": [
    {
     "data": {
      "text/plain": [
       "[('extremist', 0.7033339738845825),\n",
       " ('activist', 0.6940164566040039),\n",
       " ('men_issue', 0.6603909134864807),\n",
       " ('activism', 0.6560803651809692),\n",
       " ('slander', 0.6472089290618896)]"
      ]
     },
     "execution_count": 348,
     "metadata": {},
     "output_type": "execute_result"
    }
   ],
   "source": [
    "w2v_model.wv.most_similar(positive=[\"feminist\", \"men\"], negative=[\"woman\"], topn=5)"
   ]
  },
  {
   "cell_type": "code",
   "execution_count": 337,
   "metadata": {},
   "outputs": [
    {
     "data": {
      "text/plain": [
       "[('man', 0.6012845039367676),\n",
       " ('intrinsically', 0.521870493888855),\n",
       " ('emphasize', 0.516203761100769),\n",
       " ('objectionable', 0.511768102645874),\n",
       " ('exceptionally', 0.5094343423843384)]"
      ]
     },
     "execution_count": 337,
     "metadata": {},
     "output_type": "execute_result"
    }
   ],
   "source": [
    "w2v_model.wv.most_similar(positive=[\"masculism\", \"woman\"], negative=[\"feminism\"], topn=5)"
   ]
  },
  {
   "cell_type": "code",
   "execution_count": 339,
   "metadata": {},
   "outputs": [
    {
     "data": {
      "text/plain": [
       "[('woman', 0.6943067312240601),\n",
       " ('society', 0.629139244556427),\n",
       " ('supposedly', 0.6206615567207336),\n",
       " ('detrimental', 0.6137889623641968),\n",
       " ('patriarchal', 0.6092135310173035)]"
      ]
     },
     "execution_count": 339,
     "metadata": {},
     "output_type": "execute_result"
    }
   ],
   "source": [
    "w2v_model.wv.most_similar(positive=[\"man\", \"feminism\"], negative=[\"mra\"], topn=5)"
   ]
  },
  {
   "cell_type": "markdown",
   "metadata": {},
   "source": [
    "### t-SNE visualizations:"
   ]
  },
  {
   "cell_type": "code",
   "execution_count": 349,
   "metadata": {},
   "outputs": [],
   "source": [
    "import numpy as np\n",
    "import matplotlib.pyplot as plt\n",
    "%matplotlib inline\n",
    " \n",
    "import seaborn as sns\n",
    "sns.set_style(\"darkgrid\")\n",
    "\n",
    "from sklearn.decomposition import PCA\n",
    "from sklearn.manifold import TSNE"
   ]
  },
  {
   "cell_type": "code",
   "execution_count": 371,
   "metadata": {},
   "outputs": [],
   "source": [
    "def tsnescatterplot(model, word, list_names):\n",
    "    \"\"\" Plot in seaborn the results from the t-SNE reduction algorithm of the vectors of a query word,\n",
    "    its list of most similar words, and a list of words.\n",
    "    \"\"\"\n",
    "    arrays = np.empty((0, 300), dtype='f')\n",
    "    word_labels = [word]\n",
    "    color_list  = ['red']\n",
    "\n",
    "    # adds the vector of the query word\n",
    "    arrays = np.append(arrays, model.wv.__getitem__([word]), axis=0)\n",
    "    \n",
    "    # gets list of most similar words\n",
    "    close_words = model.wv.most_similar([word])\n",
    "    \n",
    "    # adds the vector for each of the closest words to the array\n",
    "    for wrd_score in close_words:\n",
    "        wrd_vector = model.wv.__getitem__([wrd_score[0]])\n",
    "        word_labels.append(wrd_score[0])\n",
    "        color_list.append('blue')\n",
    "        arrays = np.append(arrays, wrd_vector, axis=0)\n",
    "    \n",
    "    # adds the vector for each of the words from list_names to the array\n",
    "    for wrd in list_names:\n",
    "        wrd_vector = model.wv.__getitem__([wrd])\n",
    "        word_labels.append(wrd)\n",
    "        color_list.append('green')\n",
    "        arrays = np.append(arrays, wrd_vector, axis=0)\n",
    "        \n",
    "    # Reduces the dimensionality from 300 to 50 dimensions with PCA\n",
    "    reduc = PCA(n_components=19).fit_transform(arrays)\n",
    "    \n",
    "    # Finds t-SNE coordinates for 2 dimensions\n",
    "    np.set_printoptions(suppress=True)\n",
    "    \n",
    "    Y = TSNE(n_components=2, random_state=0, perplexity=15).fit_transform(reduc)\n",
    "    \n",
    "    # Sets everything up to plot\n",
    "    df = pd.DataFrame({'x': [x for x in Y[:, 0]],\n",
    "                       'y': [y for y in Y[:, 1]],\n",
    "                       'words': word_labels,\n",
    "                       'color': color_list})\n",
    "    \n",
    "    fig, _ = plt.subplots()\n",
    "    fig.set_size_inches(9, 9)\n",
    "    \n",
    "    # Basic plot\n",
    "    p1 = sns.regplot(data=df,\n",
    "                     x=\"x\",\n",
    "                     y=\"y\",\n",
    "                     fit_reg=False,\n",
    "                     marker=\"o\",\n",
    "                     scatter_kws={'s': 40,\n",
    "                                  'facecolors': df['color']\n",
    "                                 }\n",
    "                    )\n",
    "    \n",
    "    # Adds annotations one by one with a loop\n",
    "    for line in range(0, df.shape[0]):\n",
    "         p1.text(df[\"x\"][line],\n",
    "                 df['y'][line],\n",
    "                 '  ' + df[\"words\"][line].title(),\n",
    "                 horizontalalignment='left',\n",
    "                 verticalalignment='bottom', size='medium',\n",
    "                 color=df['color'][line],\n",
    "                 weight='normal'\n",
    "                ).set_size(15)\n",
    "\n",
    "    \n",
    "    plt.xlim(Y[:, 0].min()-50, Y[:, 0].max()+50)\n",
    "    plt.ylim(Y[:, 1].min()-50, Y[:, 1].max()+50)\n",
    "            \n",
    "    plt.title('t-SNE visualization for {}'.format(word.title()))"
   ]
  },
  {
   "cell_type": "code",
   "execution_count": 372,
   "metadata": {},
   "outputs": [
    {
     "data": {
      "image/png": "[encoded data removed]",
      "text/plain": [
       "<Figure size 648x648 with 1 Axes>"
      ]
     },
     "metadata": {
      "needs_background": "light"
     },
     "output_type": "display_data"
    }
   ],
   "source": [
    "tsnescatterplot(w2v_model, 'woman', ['man', 'feminist', 'think', 'people', 'like', 'rape', 'male', 'say',])"
   ]
  },
  {
   "cell_type": "code",
   "execution_count": 375,
   "metadata": {},
   "outputs": [
    {
     "data": {
      "image/png": "[encoded data removed]",
      "text/plain": [
       "<Figure size 648x648 with 1 Axes>"
      ]
     },
     "metadata": {
      "needs_background": "light"
     },
     "output_type": "display_data"
    }
   ],
   "source": [
    "tsnescatterplot(w2v_model, 'mra', [i[0] for i in w2v_model.wv.most_similar(negative=[\"mra\"])])"
   ]
  },
  {
   "cell_type": "code",
   "execution_count": 386,
   "metadata": {},
   "outputs": [
    {
     "data": {
      "image/png": "[encoded data removed]",
      "text/plain": [
       "<Figure size 648x648 with 1 Axes>"
      ]
     },
     "metadata": {
      "needs_background": "light"
     },
     "output_type": "display_data"
    }
   ],
   "source": [
    "tsnescatterplot(w2v_model, \"redpill\", [t[0] for t in w2v_model.wv.most_similar(positive=[\"redpill\"], topn=20)][10:])"
   ]
  },
  {
   "cell_type": "code",
   "execution_count": 396,
   "metadata": {},
   "outputs": [
    {
     "data": {
      "text/html": [
       "<div>\n",
       "<style scoped>\n",
       "    .dataframe tbody tr th:only-of-type {\n",
       "        vertical-align: middle;\n",
       "    }\n",
       "\n",
       "    .dataframe tbody tr th {\n",
       "        vertical-align: top;\n",
       "    }\n",
       "\n",
       "    .dataframe thead th {\n",
       "        text-align: right;\n",
       "    }\n",
       "</style>\n",
       "<table border=\"1\" class=\"dataframe\">\n",
       "  <thead>\n",
       "    <tr style=\"text-align: right;\">\n",
       "      <th></th>\n",
       "      <th>clean</th>\n",
       "    </tr>\n",
       "  </thead>\n",
       "  <tbody>\n",
       "    <tr>\n",
       "      <th>0</th>\n",
       "      <td>important realize attention get pay female vic...</td>\n",
       "    </tr>\n",
       "    <tr>\n",
       "      <th>1</th>\n",
       "      <td>rarely bring acceptable woman skin situation o...</td>\n",
       "    </tr>\n",
       "    <tr>\n",
       "      <th>2</th>\n",
       "      <td>wish subreddit good luck hope place discuss co...</td>\n",
       "    </tr>\n",
       "    <tr>\n",
       "      <th>3</th>\n",
       "      <td>good point man sexualizable right dare</td>\n",
       "    </tr>\n",
       "    <tr>\n",
       "      <th>4</th>\n",
       "      <td>think important point man rape receive support...</td>\n",
       "    </tr>\n",
       "  </tbody>\n",
       "</table>\n",
       "</div>"
      ],
      "text/plain": [
       "                                               clean\n",
       "0  important realize attention get pay female vic...\n",
       "1  rarely bring acceptable woman skin situation o...\n",
       "2  wish subreddit good luck hope place discuss co...\n",
       "3             good point man sexualizable right dare\n",
       "4  think important point man rape receive support..."
      ]
     },
     "execution_count": 396,
     "metadata": {},
     "output_type": "execute_result"
    }
   ],
   "source": [
    "df_clean.head()"
   ]
  },
  {
   "cell_type": "code",
   "execution_count": 410,
   "metadata": {},
   "outputs": [],
   "source": [
    "df_clean.to_pickle(\"df_clean.csv\")"
   ]
  },
  {
   "cell_type": "code",
   "execution_count": 411,
   "metadata": {},
   "outputs": [],
   "source": [
    "df_clean2 = pd.read_pickle(\"df_clean.csv\")"
   ]
  },
  {
   "cell_type": "code",
   "execution_count": null,
   "metadata": {},
   "outputs": [],
   "source": []
  }
 ],
 "metadata": {
  "kernelspec": {
   "display_name": "Python 3",
   "language": "python",
   "name": "python3"
  },
  "language_info": {
   "codemirror_mode": {
    "name": "ipython",
    "version": 3
   },
   "file_extension": ".py",
   "mimetype": "text/x-python",
   "name": "python",
   "nbconvert_exporter": "python",
   "pygments_lexer": "ipython3",
   "version": "3.7.1"
  }
 },
 "nbformat": 4,
 "nbformat_minor": 2
}
