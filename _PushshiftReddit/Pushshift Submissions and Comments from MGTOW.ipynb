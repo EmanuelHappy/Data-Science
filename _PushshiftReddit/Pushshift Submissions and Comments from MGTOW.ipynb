{
 "cells": [
  {
   "cell_type": "markdown",
   "metadata": {},
   "source": [
    "# Pushshift fo collect all the submissions and comments from MGTOW subreddit."
   ]
  },
  {
   "cell_type": "markdown",
   "metadata": {},
   "source": [
    "### Importing some relevant modules:"
   ]
  },
  {
   "cell_type": "code",
   "execution_count": null,
   "metadata": {},
   "outputs": [],
   "source": [
    "import requests\n",
    "import json\n",
    "import csv\n",
    "import datetime"
   ]
  },
  {
   "cell_type": "markdown",
   "metadata": {},
   "source": [
    "### Build functions that build PushShift URLs for submissions and comments:"
   ]
  },
  {
   "cell_type": "code",
   "execution_count": null,
   "metadata": {},
   "outputs": [],
   "source": [
    "def getPushshiftDataSubmissions(query, after, before, sub):\n",
    "    url = 'https://api.pushshift.io/reddit/search/submission/?title='+str(query)+'&size=1000&after='+str(after)+'' \\\n",
    "        '&before='+str(before)+'&subreddit='+str(sub)\n",
    "    print(url)\n",
    "    r = requests.get(url)\n",
    "    data = json.loads(r.text)\n",
    "    return data['data']"
   ]
  },
  {
   "cell_type": "code",
   "execution_count": null,
   "metadata": {},
   "outputs": [],
   "source": [
    "def getPushshiftDataComments(query, after, before, sub):\n",
    "    url = 'https://api.pushshift.io/reddit/search/comment/?title='+str(query)+'&size=1000&after='+str(after)+'' \\\n",
    "        '&before='+str(before)+'&subreddit='+str(sub)\n",
    "    print(url)\n",
    "    r = requests.get(url)\n",
    "    data = json.loads(r.text)\n",
    "    return data['data']"
   ]
  },
  {
   "cell_type": "markdown",
   "metadata": {},
   "source": [
    "### Build Functions to extract key data points:"
   ]
  },
  {
   "cell_type": "code",
   "execution_count": null,
   "metadata": {},
   "outputs": [],
   "source": [
    "def collectSubData(subm):\n",
    "    subData = list() #list to store submissions data points\n",
    "    title = subm['title']\n",
    "    sub_id = subm['id']\n",
    "    created = datetime.datetime.fromtimestamp(subm['created_utc']) # MGTOW = 1307205635 = 06/04/2011 4:40pm\n",
    "\n",
    "    subData.append((sub_id, title, created))\n",
    "    subStats[sub_id] = subData"
   ]
  },
  {
   "cell_type": "code",
   "execution_count": null,
   "metadata": {},
   "outputs": [],
   "source": [
    "def collectComData(com):\n",
    "    comData = list() #list to store comments data points\n",
    "    body = com['body']\n",
    "    com_id = com['id']\n",
    "    created = datetime.datetime.fromtimestamp(com['created_utc']) # MGTOW = 1307205635 = 06/04/2011 4:40pm\n",
    "\n",
    "    comData.append((com_id, body, created))\n",
    "    comStats[com_id] = comData\n"
   ]
  },
  {
   "cell_type": "markdown",
   "metadata": {},
   "source": [
    "### Storing the Data"
   ]
  },
  {
   "cell_type": "code",
   "execution_count": null,
   "metadata": {},
   "outputs": [],
   "source": [
    "#Subreddit to query\n",
    "sub='MGTOW'"
   ]
  },
  {
   "cell_type": "code",
   "execution_count": null,
   "metadata": {},
   "outputs": [],
   "source": [
    "#before and after dates\n",
    "before = '1554842081' # 04/09/2019\n",
    "after = '1307205635' # 06/04/2011"
   ]
  },
  {
   "cell_type": "code",
   "execution_count": null,
   "metadata": {},
   "outputs": [],
   "source": [
    "query = '' # to look for all submissions and comments, the query must be an empty string"
   ]
  },
  {
   "cell_type": "markdown",
   "metadata": {},
   "source": [
    "#### Declareted count and dict for submissions:"
   ]
  },
  {
   "cell_type": "code",
   "execution_count": null,
   "metadata": {},
   "outputs": [],
   "source": [
    "subCount = 0\n",
    "subStats = {}"
   ]
  },
  {
   "cell_type": "markdown",
   "metadata": {},
   "source": [
    "#### Declareted count and dict for comments:"
   ]
  },
  {
   "cell_type": "code",
   "execution_count": null,
   "metadata": {},
   "outputs": [],
   "source": [
    "comCount = 0\n",
    "comStats = {}"
   ]
  },
  {
   "cell_type": "markdown",
   "metadata": {},
   "source": [
    "### Run code and loop until all submissions and comments are collected:"
   ]
  },
  {
   "cell_type": "markdown",
   "metadata": {},
   "source": [
    "#### Declaring the first data for Submissions"
   ]
  },
  {
   "cell_type": "code",
   "execution_count": null,
   "metadata": {},
   "outputs": [],
   "source": [
    "data_subm = getPushshiftDataSubmissions(query, after, before, sub)"
   ]
  },
  {
   "cell_type": "markdown",
   "metadata": {},
   "source": [
    "#### Declaring the first data for Comments"
   ]
  },
  {
   "cell_type": "code",
   "execution_count": null,
   "metadata": {},
   "outputs": [],
   "source": [
    "data_com = getPushshiftDataComments(query, after, before, sub)"
   ]
  },
  {
   "cell_type": "markdown",
   "metadata": {},
   "source": [
    "The code will run until all posts have been gathered, from the 'after' date up untill 'before' date:"
   ]
  },
  {
   "cell_type": "markdown",
   "metadata": {},
   "source": [
    "#### Running for Submissions"
   ]
  },
  {
   "cell_type": "code",
   "execution_count": null,
   "metadata": {},
   "outputs": [],
   "source": [
    "while len(data_subm) > 0:\n",
    "    \n",
    "    for submission in data_subm:\n",
    "        collectSubData(submission)\n",
    "        subCount+=1\n",
    "        \n",
    "    # Print to get the feedback while the loop is running\n",
    "    print(len(data_subm))\n",
    "    print(str(datetime.datetime.fromtimestamp(data_subm[-1]['created_utc'])))\n",
    "    \n",
    "    # Calls getPushshiftData() with the created date of the las submission\n",
    "    after = data_subm[-1]['created_utc']\n",
    "    data = getPushshiftDataSubmissions(query, after, before, sub)\n",
    "\n",
    "print(len(data_subm))"
   ]
  },
  {
   "cell_type": "markdown",
   "metadata": {},
   "source": [
    "#### Running for Comments"
   ]
  },
  {
   "cell_type": "code",
   "execution_count": null,
   "metadata": {},
   "outputs": [],
   "source": [
    "while len(data_com) > 0:\n",
    "    for coms in data_com:\n",
    "        collectComData(coms)\n",
    "        comCount+=1\n",
    "        \n",
    "    # Print to get the feedback while the loop is running\n",
    "    print(len(data_com))\n",
    "    print(str(datetime.datetime.fromtimestamp(data_com[-1]['created_utc'])))\n",
    "    \n",
    "    # Calls getPushshiftDataComs() with the created date of the las coment\n",
    "    after = data_com[-1]['created_utc']\n",
    "    data_com = getPushshiftDataComments(query, after, before, sub)\n",
    "    \n",
    "print(len(data_com))"
   ]
  },
  {
   "cell_type": "markdown",
   "metadata": {},
   "source": [
    "#### Check submissions and comments:"
   ]
  },
  {
   "cell_type": "code",
   "execution_count": null,
   "metadata": {},
   "outputs": [],
   "source": [
    "print(str(len(subStats)) + \" submissions have added to list\")\n",
    "print(str(len(comStats)) + \" Coments have added to list\")"
   ]
  },
  {
   "cell_type": "markdown",
   "metadata": {},
   "source": [
    "### Upload to csv file:"
   ]
  },
  {
   "cell_type": "code",
   "execution_count": null,
   "metadata": {},
   "outputs": [],
   "source": [
    "def updateSubs_and_Comments_file():\n",
    "    upload_count = 0\n",
    "    upload_com_count = 0\n",
    "    \n",
    "    # Defining where the archive will be genereted\n",
    "    location = \"C:\\\\Users\\\\emanu\\\\programacao\\\\jupiter\\\\Trabalho Prático Semana1\\\\\"\n",
    "    print(\"input filename of submission file, plead add .csv\")\n",
    "    filename = input()\n",
    "    file = location + filename\n",
    "\n",
    "    with open(file, 'w', newline='', encoding='utf-8') as file:\n",
    "        a = csv.writer(file)\n",
    "        headers = [\" Title and Coments\"]\n",
    "        a.writerow(headers)\n",
    "\n",
    "        # Writing submissions\n",
    "        for sub in subStats:\n",
    "            a.writerow(subStats[sub][0][1:2])\n",
    "            upload_count+=1\n",
    "\n",
    "        # Writing comments\n",
    "        for com in comStats:\n",
    "            a.writerow(comStats[com][0][1:2])\n",
    "            upload_com_count += 1\n",
    "            \n",
    "        # Feedback of the sucess of the writing\n",
    "        print(str(upload_count) + \" submissions have been uploaded\")\n",
    "        print(str(upload_com_count) + \" comments have been uploaded\")"
   ]
  },
  {
   "cell_type": "code",
   "execution_count": null,
   "metadata": {},
   "outputs": [],
   "source": [
    "updateSubs_and_Comments_file()"
   ]
  }
 ],
 "metadata": {
  "kernelspec": {
   "display_name": "Python 3",
   "language": "python",
   "name": "python3"
  },
  "language_info": {
   "codemirror_mode": {
    "name": "ipython",
    "version": 3
   },
   "file_extension": ".py",
   "mimetype": "text/x-python",
   "name": "python",
   "nbconvert_exporter": "python",
   "pygments_lexer": "ipython3",
   "version": "3.7.3"
  }
 },
 "nbformat": 4,
 "nbformat_minor": 2
}
