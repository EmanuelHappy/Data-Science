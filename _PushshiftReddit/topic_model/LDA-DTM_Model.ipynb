{
 "cells": [
  {
   "cell_type": "code",
   "execution_count": 9,
   "metadata": {},
   "outputs": [],
   "source": [
    "import matplotlib.pyplot as plt\n",
    "import gensim\n",
    "import numpy as np\n",
    "import pandas as pd\n",
    "import spacy\n",
    "import pickle \n",
    "\n",
    "from gensim.models.wrappers.dtmmodel import DtmModel\n",
    "from gensim.models import CoherenceModel, LdaModel, LsiModel, HdpModel\n",
    "from gensim.models.wrappers import LdaMallet\n",
    "from gensim.corpora import Dictionary, MmCorpus\n",
    "import pyLDAvis.gensim\n",
    "\n",
    "import os, re, operator, warnings\n",
    "warnings.filterwarnings('ignore') \n",
    "%matplotlib inline"
   ]
  },
  {
   "cell_type": "markdown",
   "metadata": {},
   "source": [
    "# LDA Communities topic models"
   ]
  },
  {
   "cell_type": "code",
   "execution_count": 2,
   "metadata": {},
   "outputs": [],
   "source": [
    "MR_model = LdaModel.load('./lda/MR_lda_model.gensim')\n",
    "MGTOW_model = LdaModel.load('./lda/MGTOW_lda_model.gensim')\n",
    "RP_model = LdaModel.load('./lda/RP_lda_model.gensim')"
   ]
  },
  {
   "cell_type": "code",
   "execution_count": 3,
   "metadata": {},
   "outputs": [],
   "source": [
    "Incel_model = LdaModel.load('./lda/Incel_lda_model.gensim')"
   ]
  },
  {
   "cell_type": "code",
   "execution_count": 5,
   "metadata": {},
   "outputs": [
    {
     "data": {
      "text/plain": [
       "[(9,\n",
       "  '0.031*\"like\" + 0.020*\"think\" + 0.014*\"look\" + 0.011*\"people\" + 0.010*\"character\" + 0.009*\"movie\" + 0.009*\"thing\" + 0.008*\"article\" + 0.008*\"write\" + 0.008*\"video\"'),\n",
       " (6,\n",
       "  '0.098*\"rape\" + 0.027*\"victim\" + 0.026*\"consent\" + 0.023*\"case\" + 0.021*\"crime\" + 0.018*\"sex\" + 0.016*\"rapist\" + 0.014*\"law\" + 0.013*\"accuse\" + 0.013*\"sexual_assault\"'),\n",
       " (5,\n",
       "  '0.167*\"woman\" + 0.163*\"man\" + 0.019*\"male\" + 0.018*\"gender\" + 0.011*\"sex\" + 0.011*\"female\" + 0.011*\"think\" + 0.009*\"society\" + 0.007*\"issue\" + 0.007*\"want\"'),\n",
       " (7,\n",
       "  '0.104*\"privilege\" + 0.072*\"discrimination\" + 0.045*\"title\" + 0.039*\"insult\" + 0.024*\"advantage\" + 0.020*\"draft\" + 0.017*\"discriminate\" + 0.017*\"ad\" + 0.016*\"military\" + 0.014*\"oppression\"'),\n",
       " (3,\n",
       "  '0.041*\"work\" + 0.017*\"job\" + 0.013*\"time\" + 0.011*\"like\" + 0.010*\"pay\" + 0.010*\"go\" + 0.009*\"good\" + 0.009*\"need\" + 0.008*\"get\" + 0.008*\"money\"'),\n",
       " (4,\n",
       "  '0.045*\"people\" + 0.029*\"think\" + 0.020*\"thing\" + 0.018*\"like\" + 0.014*\"bad\" + 0.013*\"feel\" + 0.013*\"know\" + 0.012*\"want\" + 0.012*\"good\" + 0.012*\"way\"'),\n",
       " (14,\n",
       "  '0.024*\"girl\" + 0.024*\"like\" + 0.018*\"guy\" + 0.018*\"get\" + 0.017*\"time\" + 0.017*\"boy\" + 0.015*\"know\" + 0.013*\"game\" + 0.012*\"go\" + 0.011*\"day\"'),\n",
       " (10,\n",
       "  '0.051*\"article\" + 0.036*\"study\" + 0.016*\"find\" + 0.014*\"report\" + 0.013*\"link\" + 0.012*\"claim\" + 0.012*\"number\" + 0.012*\"source\" + 0.012*\"violence\" + 0.011*\"research\"'),\n",
       " (0,\n",
       "  '0.054*\"people\" + 0.044*\"white\" + 0.030*\"group\" + 0.029*\"black\" + 0.022*\"culture\" + 0.021*\"race\" + 0.017*\"class\" + 0.012*\"racist\" + 0.012*\"country\" + 0.011*\"american\"'),\n",
       " (2,\n",
       "  '0.036*\"child\" + 0.017*\"right\" + 0.014*\"parent\" + 0.013*\"law\" + 0.013*\"want\" + 0.013*\"mother\" + 0.013*\"father\" + 0.012*\"kid\" + 0.009*\"sex\" + 0.009*\"abortion\"')]"
      ]
     },
     "execution_count": 5,
     "metadata": {},
     "output_type": "execute_result"
    }
   ],
   "source": [
    "MR_model.print_topics(num_topics=10)"
   ]
  },
  {
   "cell_type": "code",
   "execution_count": 6,
   "metadata": {},
   "outputs": [
    {
     "data": {
      "text/plain": [
       "[(11,\n",
       "  '0.084*\"post\" + 0.036*\"sub\" + 0.035*\"comment\" + 0.025*\"read\" + 0.023*\"r\" + 0.017*\"ban\" + 0.015*\"reddit\" + 0.013*\"op\" + 0.012*\"say\" + 0.012*\"picture\"'),\n",
       " (6,\n",
       "  '0.045*\"good\" + 0.023*\"love\" + 0.021*\"watch\" + 0.018*\"like\" + 0.018*\"great\" + 0.018*\"thank\" + 0.017*\"movie\" + 0.017*\"read\" + 0.014*\"feel\" + 0.012*\"video\"'),\n",
       " (8,\n",
       "  '0.074*\"kid\" + 0.055*\"child\" + 0.051*\"b\" + 0.045*\"amp_x\" + 0.032*\"rape\" + 0.023*\"mother\" + 0.021*\"father\" + 0.017*\"boy\" + 0.017*\"parent\" + 0.016*\"baby\"'),\n",
       " (4,\n",
       "  '0.110*\"woman\" + 0.084*\"man\" + 0.018*\"want\" + 0.012*\"sex\" + 0.011*\"like\" + 0.011*\"life\" + 0.010*\"female\" + 0.008*\"think\" + 0.008*\"way\" + 0.008*\"need\"'),\n",
       " (13,\n",
       "  '0.028*\"marriage\" + 0.027*\"divorce\" + 0.026*\"marry\" + 0.017*\"law\" + 0.017*\"wife\" + 0.013*\"state\" + 0.012*\"get\" + 0.011*\"government\" + 0.011*\"happen\" + 0.010*\"right\"'),\n",
       " (14,\n",
       "  '0.041*\"simp\" + 0.018*\"lady\" + 0.018*\"lie\" + 0.017*\"hey\" + 0.015*\"claim\" + 0.014*\"god\" + 0.013*\"police\" + 0.012*\"fire\" + 0.012*\"ball\" + 0.011*\"shut\"'),\n",
       " (9,\n",
       "  '0.125*\"lol\" + 0.046*\"t\" + 0.032*\"joke\" + 0.023*\"yeah\" + 0.023*\"vote\" + 0.022*\"bet\" + 0.020*\"cat\" + 0.018*\"photo\" + 0.017*\"haha\" + 0.017*\"welcome\"'),\n",
       " (7,\n",
       "  '0.028*\"work\" + 0.021*\"money\" + 0.018*\"time\" + 0.017*\"pay\" + 0.016*\"year\" + 0.014*\"job\" + 0.012*\"day\" + 0.012*\"go\" + 0.011*\"good\" + 0.011*\"buy\"'),\n",
       " (10,\n",
       "  '0.315*\"\\'\" + 0.027*\"trash\" + 0.019*\"plantation\" + 0.017*\"pill\" + 0.017*\"abortion\" + 0.014*\"escort\" + 0.014*\"bot\" + 0.013*\"fan\" + 0.013*\"post_wall\" + 0.011*\"church\"'),\n",
       " (2,\n",
       "  '0.118*\"s\" + 0.067*\"m\" + 0.050*\"https_www\" + 0.040*\"com\" + 0.034*\"d\" + 0.027*\"article\" + 0.026*\"u\" + 0.024*\"youtube_com\" + 0.024*\"archive_org\" + 0.022*\"watch_v\"')]"
      ]
     },
     "execution_count": 6,
     "metadata": {},
     "output_type": "execute_result"
    }
   ],
   "source": [
    "MGTOW_model.print_topics(num_topics=10)"
   ]
  },
  {
   "cell_type": "code",
   "execution_count": 7,
   "metadata": {},
   "outputs": [
    {
     "data": {
      "text/plain": [
       "[(3,\n",
       "  '0.021*\"thing\" + 0.021*\"\\'\" + 0.020*\"people\" + 0.019*\"like\" + 0.019*\"life\" + 0.017*\"feel\" + 0.017*\"think\" + 0.016*\"want\" + 0.015*\"way\" + 0.014*\"need\"'),\n",
       " (4,\n",
       "  '0.122*\"trp\" + 0.024*\"wear\" + 0.021*\"energy\" + 0.021*\"social_medium\" + 0.019*\"porn\" + 0.013*\"dress\" + 0.011*\"god\" + 0.011*\"anxiety\" + 0.011*\"pic\" + 0.010*\"professional\"'),\n",
       " (0,\n",
       "  '0.094*\"man\" + 0.084*\"woman\" + 0.018*\"people\" + 0.016*\"male\" + 0.015*\"society\" + 0.014*\"female\" + 0.012*\"feminist\" + 0.011*\"world\" + 0.010*\"rape\" + 0.009*\"like\"'),\n",
       " (8,\n",
       "  '0.067*\"post\" + 0.027*\"comment\" + 0.026*\"read\" + 0.019*\"think\" + 0.017*\"like\" + 0.017*\"people\" + 0.015*\"sub\" + 0.012*\"say\" + 0.011*\"write\" + 0.010*\"know\"'),\n",
       " (2,\n",
       "  '0.222*\"s\" + 0.094*\"not\" + 0.073*\"don_t\" + 0.048*\"m\" + 0.029*\"archive_org\" + 0.028*\"be\" + 0.025*\"d\" + 0.024*\"t\" + 0.024*\"com\" + 0.022*\"http_www\"'),\n",
       " (1,\n",
       "  '0.029*\"work\" + 0.020*\"job\" + 0.019*\"money\" + 0.017*\"time\" + 0.014*\"year\" + 0.013*\"pay\" + 0.011*\"people\" + 0.010*\"life\" + 0.010*\"good\" + 0.010*\"go\"'),\n",
       " (6,\n",
       "  '0.040*\"girl\" + 0.023*\"time\" + 0.022*\"like\" + 0.022*\"friend\" + 0.018*\"want\" + 0.016*\"go\" + 0.013*\"know\" + 0.013*\"talk\" + 0.013*\"tell\" + 0.013*\"ask\"'),\n",
       " (10,\n",
       "  '0.028*\"day\" + 0.018*\"work\" + 0.018*\"lift\" + 0.018*\"start\" + 0.015*\"time\" + 0.015*\"look\" + 0.014*\"eat\" + 0.013*\"body\" + 0.013*\"week\" + 0.012*\"good\"'),\n",
       " (9,\n",
       "  '0.070*\"read\" + 0.045*\"game\" + 0.039*\"learn\" + 0.038*\"book\" + 0.030*\"good\" + 0.028*\"https_www\" + 0.026*\"advice\" + 0.023*\"great\" + 0.020*\"play\" + 0.019*\"oneitis\"'),\n",
       " (5,\n",
       "  '0.098*\"woman\" + 0.055*\"man\" + 0.027*\"sex\" + 0.024*\"guy\" + 0.022*\"want\" + 0.019*\"girl\" + 0.015*\"relationship\" + 0.014*\"look\" + 0.011*\"alpha\" + 0.010*\"think\"')]"
      ]
     },
     "execution_count": 7,
     "metadata": {},
     "output_type": "execute_result"
    }
   ],
   "source": [
    "RP_model.print_topics(num_topics=10)"
   ]
  },
  {
   "cell_type": "code",
   "execution_count": 8,
   "metadata": {},
   "outputs": [
    {
     "data": {
      "text/plain": [
       "[(9,\n",
       "  '0.069*\"b\" + 0.058*\"comment\" + 0.056*\"amp_x\" + 0.056*\"u\" + 0.052*\"https_www\" + 0.049*\"com\" + 0.037*\"r\" + 0.031*\"manlet\" + 0.023*\"https\" + 0.022*\"https_imgur\"'),\n",
       " (6,\n",
       "  '0.118*\"look\" + 0.061*\"guy\" + 0.056*\"like\" + 0.039*\"girl\" + 0.034*\"good\" + 0.031*\"ugly\" + 0.022*\"personality\" + 0.018*\"face\" + 0.017*\"think\" + 0.015*\"attractive\"'),\n",
       " (4,\n",
       "  '0.087*\"not\" + 0.070*\"white\" + 0.037*\"short\" + 0.036*\"black\" + 0.034*\"be\" + 0.030*\"height\" + 0.030*\"tall\" + 0.027*\"face\" + 0.026*\"asian\" + 0.025*\"guy\"'),\n",
       " (1,\n",
       "  '0.050*\"tbh\" + 0.033*\"damn\" + 0.026*\"loser\" + 0.023*\"win\" + 0.020*\"isn_t\" + 0.017*\"suffer\" + 0.015*\"nah\" + 0.014*\"son\" + 0.014*\"wear\" + 0.013*\"abuse\"'),\n",
       " (3,\n",
       "  '0.107*\"post\" + 0.034*\"sub\" + 0.023*\"reddit\" + 0.023*\"read\" + 0.020*\"ban\" + 0.016*\"thread\" + 0.015*\"rape\" + 0.015*\"fake\" + 0.015*\"op\" + 0.014*\"subreddit\"'),\n",
       " (11,\n",
       "  '0.274*\"incel\" + 0.065*\"normie\" + 0.050*\"hate\" + 0.041*\"virgin\" + 0.035*\"sub\" + 0.027*\"rope\" + 0.016*\"blackpill\" + 0.014*\"faggot\" + 0.012*\"cel\" + 0.012*\"cope\"'),\n",
       " (7,\n",
       "  '0.111*\"chad\" + 0.103*\"fuck\" + 0.048*\"female\" + 0.036*\"foid\" + 0.030*\"want\" + 0.022*\"cuck\" + 0.020*\"sex\" + 0.019*\"get\" + 0.017*\"male\" + 0.016*\"fucking\"'),\n",
       " (2,\n",
       "  '0.038*\"people\" + 0.036*\"like\" + 0.035*\"feel\" + 0.028*\"life\" + 0.020*\"want\" + 0.019*\"think\" + 0.019*\"bad\" + 0.016*\"help\" + 0.016*\"thing\" + 0.015*\"good\"'),\n",
       " (12,\n",
       "  '0.195*\"woman\" + 0.123*\"man\" + 0.024*\"sex\" + 0.020*\"want\" + 0.017*\"date\" + 0.013*\"male\" + 0.012*\"relationship\" + 0.009*\"find\" + 0.009*\"guy\" + 0.009*\"like\"'),\n",
       " (0,\n",
       "  '0.227*\"s\" + 0.142*\"\\'\" + 0.063*\"bro\" + 0.058*\"don_t\" + 0.056*\"m\" + 0.040*\"lmao\" + 0.026*\"t\" + 0.024*\"cope\" + 0.019*\"ve\" + 0.017*\"d\"')]"
      ]
     },
     "execution_count": 8,
     "metadata": {},
     "output_type": "execute_result"
    }
   ],
   "source": [
    "Incel_model.print_topics(num_topics=10)"
   ]
  },
  {
   "cell_type": "markdown",
   "metadata": {},
   "source": [
    "# DTM"
   ]
  },
  {
   "cell_type": "markdown",
   "metadata": {},
   "source": [
    "* increase alpha for later analysis, since it seems to be small (0.01)"
   ]
  },
  {
   "cell_type": "code",
   "execution_count": 139,
   "metadata": {},
   "outputs": [],
   "source": [
    "years = ['2012-2014', '2015', '2016', '2017', '2018', '2019']"
   ]
  },
  {
   "cell_type": "code",
   "execution_count": 62,
   "metadata": {},
   "outputs": [],
   "source": [
    "MGTOW_model = DtmModel.load(\"./lda/MGTOW_dtm.gensim\")\n",
    "MR_model = DtmModel.load(\"./lda/MR_dtm.gensim\")"
   ]
  },
  {
   "cell_type": "code",
   "execution_count": 151,
   "metadata": {},
   "outputs": [
    {
     "data": {
      "text/plain": [
       "[(0.014538240971743624, 'white'),\n",
       " (0.01371816155541353, 'country'),\n",
       " (0.01240526727891059, 'people'),\n",
       " (0.009740965859500754, 'black'),\n",
       " (0.00691941532898257, 'trump'),\n",
       " (0.006911170554158014, 'world'),\n",
       " (0.006553352444881698, 'vote'),\n",
       " (0.006450634160147026, 'american'),\n",
       " (0.005902928352021124, 'like'),\n",
       " (0.005880789939235025, 'war')]"
      ]
     },
     "execution_count": 151,
     "metadata": {},
     "output_type": "execute_result"
    }
   ],
   "source": [
    "MGTOW_model.show_topic(topicid=4, time=0, topn=10)"
   ]
  },
  {
   "cell_type": "code",
   "execution_count": 160,
   "metadata": {},
   "outputs": [
    {
     "data": {
      "text/plain": [
       "[(0.0353613669459384, 'rape'),\n",
       " (0.013486181244161462, 'victim'),\n",
       " (0.01193923625545522, 'case'),\n",
       " (0.008165834869836327, 'report'),\n",
       " (0.00800195921563997, 'crime'),\n",
       " (0.007619362630117012, 'consent'),\n",
       " (0.007541240608034483, 'violence'),\n",
       " (0.007010819353189323, 'law'),\n",
       " (0.00688947050378945, 'study'),\n",
       " (0.005983003354495979, 'sexual_assault'),\n",
       " (0.0058811580273022395, 'evidence'),\n",
       " (0.005591311029997634, 'police'),\n",
       " (0.005293136696979878, 'rapist'),\n",
       " (0.00509952069449986, 'accuse'),\n",
       " (0.004418341065413598, 'abuse'),\n",
       " (0.004342622246117101, 'court'),\n",
       " (0.004147367238063922, 'number'),\n",
       " (0.004116710667870746, 'likely'),\n",
       " (0.0038993326390604965, 'accusation'),\n",
       " (0.0038907915731614794, 'happen')]"
      ]
     },
     "execution_count": 160,
     "metadata": {},
     "output_type": "execute_result"
    }
   ],
   "source": [
    "MR_model.show_topic(topicid=3, time=5, topn=20)"
   ]
  },
  {
   "cell_type": "code",
   "execution_count": 98,
   "metadata": {},
   "outputs": [],
   "source": [
    "def dict_topic(model, topicid, topn=100):\n",
    "    words_prob = dict()\n",
    "    \n",
    "    for i in range(6):\n",
    "        for prob, word in model.show_topic(topicid=topicid, time=i, topn=topn):\n",
    "            if word not in words_prob:\n",
    "                words_prob[word] = [prob]\n",
    "            else:\n",
    "                words_prob[word].append(prob)\n",
    "                \n",
    "    return words_prob"
   ]
  },
  {
   "cell_type": "code",
   "execution_count": 71,
   "metadata": {},
   "outputs": [],
   "source": [
    "import matplotlib.pyplot as plt\n",
    "import seaborn as sns\n",
    "sns.set()"
   ]
  },
  {
   "cell_type": "code",
   "execution_count": 161,
   "metadata": {},
   "outputs": [
    {
     "data": {
      "image/png": "[encoded data removed]",
      "text/plain": [
       "<Figure size 432x288 with 1 Axes>"
      ]
     },
     "metadata": {},
     "output_type": "display_data"
    }
   ],
   "source": [
    "words_prob = dict_topic(MR_model, 0)\n",
    "word = 'trump'\n",
    "plt.title(f\"Occurrence of {word} in topic related to race on Man's Right\")\n",
    "sns.pointplot(years, words_prob[word]);"
   ]
  },
  {
   "cell_type": "code",
   "execution_count": 162,
   "metadata": {},
   "outputs": [
    {
     "data": {
      "image/png": "[encoded data removed]",
      "text/plain": [
       "<Figure size 432x288 with 1 Axes>"
      ]
     },
     "metadata": {},
     "output_type": "display_data"
    }
   ],
   "source": [
    "words_prob = dict_topic(MGTOW_model, 2)\n",
    "word = \"lie\"\n",
    "plt.title(f\"Occurrence of {word} in topic related to rape on MGTOW\")\n",
    "sns.pointplot(years, words_prob[word]);"
   ]
  },
  {
   "cell_type": "code",
   "execution_count": null,
   "metadata": {},
   "outputs": [],
   "source": []
  }
 ],
 "metadata": {
  "kernelspec": {
   "display_name": "Python 3",
   "language": "python",
   "name": "python3"
  },
  "language_info": {
   "codemirror_mode": {
    "name": "ipython",
    "version": 3
   },
   "file_extension": ".py",
   "mimetype": "text/x-python",
   "name": "python",
   "nbconvert_exporter": "python",
   "pygments_lexer": "ipython3",
   "version": "3.7.3"
  }
 },
 "nbformat": 4,
 "nbformat_minor": 2
}
