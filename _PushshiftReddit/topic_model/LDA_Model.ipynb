{
 "cells": [
  {
   "cell_type": "code",
   "execution_count": 13,
   "metadata": {},
   "outputs": [],
   "source": [
    "import matplotlib.pyplot as plt\n",
    "import gensim\n",
    "import numpy as np\n",
    "import pandas as pd\n",
    "import spacy\n",
    "import pickle \n",
    "\n",
    "from gensim.models import CoherenceModel, LdaModel, LsiModel, HdpModel\n",
    "from gensim.models.wrappers import LdaMallet\n",
    "from gensim.corpora import Dictionary, MmCorpus\n",
    "import pyLDAvis.gensim\n",
    "\n",
    "import os, re, operator, warnings\n",
    "warnings.filterwarnings('ignore') \n",
    "%matplotlib inline"
   ]
  },
  {
   "cell_type": "markdown",
   "metadata": {},
   "source": [
    "# Communities topic models"
   ]
  },
  {
   "cell_type": "code",
   "execution_count": 14,
   "metadata": {},
   "outputs": [],
   "source": [
    "MR_model = LdaModel.load('./lda/MR_lda_model.gensim')\n",
    "MGTOW_model = LdaModel.load('./lda/MGTOW_lda_model.gensim')\n",
    "RP_model = LdaModel.load('./lda/RP_lda_model.gensim')"
   ]
  },
  {
   "cell_type": "code",
   "execution_count": 18,
   "metadata": {},
   "outputs": [],
   "source": [
    "Incel_model = LdaModel.load('./lda/Incel_lda_model.gensim')"
   ]
  },
  {
   "cell_type": "code",
   "execution_count": 15,
   "metadata": {},
   "outputs": [
    {
     "data": {
      "text/plain": [
       "[(0,\n",
       "  '0.054*\"people\" + 0.044*\"white\" + 0.030*\"group\" + 0.029*\"black\" + 0.022*\"culture\" + 0.021*\"race\" + 0.017*\"class\" + 0.012*\"racist\" + 0.012*\"country\" + 0.011*\"american\"'),\n",
       " (1,\n",
       "  '0.025*\"gender\" + 0.016*\"difference\" + 0.015*\"male\" + 0.015*\"female\" + 0.013*\"sex\" + 0.011*\"high\" + 0.010*\"human\" + 0.010*\"average\" + 0.009*\"likely\" + 0.008*\"effect\"'),\n",
       " (2,\n",
       "  '0.036*\"child\" + 0.017*\"right\" + 0.014*\"parent\" + 0.013*\"law\" + 0.013*\"want\" + 0.013*\"mother\" + 0.013*\"father\" + 0.012*\"kid\" + 0.009*\"sex\" + 0.009*\"abortion\"'),\n",
       " (3,\n",
       "  '0.041*\"work\" + 0.017*\"job\" + 0.013*\"time\" + 0.011*\"like\" + 0.010*\"pay\" + 0.010*\"go\" + 0.009*\"good\" + 0.009*\"need\" + 0.008*\"get\" + 0.008*\"money\"'),\n",
       " (4,\n",
       "  '0.045*\"people\" + 0.029*\"think\" + 0.020*\"thing\" + 0.018*\"like\" + 0.014*\"bad\" + 0.013*\"feel\" + 0.013*\"know\" + 0.012*\"want\" + 0.012*\"good\" + 0.012*\"way\"'),\n",
       " (5,\n",
       "  '0.167*\"woman\" + 0.163*\"man\" + 0.019*\"male\" + 0.018*\"gender\" + 0.011*\"sex\" + 0.011*\"female\" + 0.011*\"think\" + 0.009*\"society\" + 0.007*\"issue\" + 0.007*\"want\"'),\n",
       " (6,\n",
       "  '0.098*\"rape\" + 0.027*\"victim\" + 0.026*\"consent\" + 0.023*\"case\" + 0.021*\"crime\" + 0.018*\"sex\" + 0.016*\"rapist\" + 0.014*\"law\" + 0.013*\"accuse\" + 0.013*\"sexual_assault\"'),\n",
       " (7,\n",
       "  '0.104*\"privilege\" + 0.072*\"discrimination\" + 0.045*\"title\" + 0.039*\"insult\" + 0.024*\"advantage\" + 0.020*\"draft\" + 0.017*\"discriminate\" + 0.017*\"ad\" + 0.016*\"military\" + 0.014*\"oppression\"'),\n",
       " (8,\n",
       "  '0.051*\"feminist\" + 0.031*\"feminism\" + 0.022*\"issue\" + 0.017*\"right\" + 0.016*\"think\" + 0.016*\"mra\" + 0.015*\"people\" + 0.015*\"movement\" + 0.013*\"group\" + 0.012*\"like\"'),\n",
       " (9,\n",
       "  '0.031*\"like\" + 0.020*\"think\" + 0.014*\"look\" + 0.011*\"people\" + 0.010*\"character\" + 0.009*\"movie\" + 0.009*\"thing\" + 0.008*\"article\" + 0.008*\"write\" + 0.008*\"video\"'),\n",
       " (10,\n",
       "  '0.051*\"article\" + 0.036*\"study\" + 0.016*\"find\" + 0.014*\"report\" + 0.013*\"link\" + 0.012*\"claim\" + 0.012*\"number\" + 0.012*\"source\" + 0.012*\"violence\" + 0.011*\"research\"'),\n",
       " (11,\n",
       "  '0.121*\"com\" + 0.047*\"http_www\" + 0.043*\"reddit_com\" + 0.042*\"https_www\" + 0.041*\"comment\" + 0.041*\"http_femradebate\" + 0.037*\"s\" + 0.030*\"r_femradebate\" + 0.021*\"http\" + 0.019*\"b\"'),\n",
       " (12,\n",
       "  '0.070*\"post\" + 0.046*\"comment\" + 0.022*\"sub\" + 0.018*\"debate\" + 0.017*\"discussion\" + 0.016*\"question\" + 0.016*\"say\" + 0.016*\"point\" + 0.015*\"read\" + 0.015*\"ban\"'),\n",
       " (13,\n",
       "  '0.050*\"\\'\" + 0.015*\"think\" + 0.011*\"people\" + 0.009*\"argument\" + 0.009*\"way\" + 0.009*\"mean\" + 0.008*\"point\" + 0.007*\"thing\" + 0.007*\"term\" + 0.006*\"different\"'),\n",
       " (14,\n",
       "  '0.024*\"girl\" + 0.024*\"like\" + 0.018*\"guy\" + 0.018*\"get\" + 0.017*\"time\" + 0.017*\"boy\" + 0.015*\"know\" + 0.013*\"game\" + 0.012*\"go\" + 0.011*\"day\"')]"
      ]
     },
     "execution_count": 15,
     "metadata": {},
     "output_type": "execute_result"
    }
   ],
   "source": [
    "MR_model.print_topics()"
   ]
  },
  {
   "cell_type": "code",
   "execution_count": 16,
   "metadata": {},
   "outputs": [
    {
     "data": {
      "text/plain": [
       "[(0,\n",
       "  '0.061*\"chad\" + 0.023*\"porn\" + 0.020*\"disgusting\" + 0.020*\"archive\" + 0.020*\"drug\" + 0.019*\"feminism\" + 0.015*\"test\" + 0.015*\"patriarchy\" + 0.015*\"drink\" + 0.013*\"feminist\"'),\n",
       " (1,\n",
       "  '0.034*\"people\" + 0.015*\"think\" + 0.013*\"thing\" + 0.012*\"like\" + 0.010*\"world\" + 0.009*\"know\" + 0.009*\"way\" + 0.006*\"mean\" + 0.006*\"life\" + 0.005*\"society\"'),\n",
       " (2,\n",
       "  '0.118*\"s\" + 0.067*\"m\" + 0.050*\"https_www\" + 0.040*\"com\" + 0.034*\"d\" + 0.027*\"article\" + 0.026*\"u\" + 0.024*\"youtube_com\" + 0.024*\"archive_org\" + 0.022*\"watch_v\"'),\n",
       " (3,\n",
       "  '0.033*\"like\" + 0.030*\"fuck\" + 0.026*\"guy\" + 0.023*\"s\" + 0.019*\"get\" + 0.019*\"know\" + 0.018*\"girl\" + 0.018*\"shit\" + 0.015*\"want\" + 0.014*\"think\"'),\n",
       " (4,\n",
       "  '0.110*\"woman\" + 0.084*\"man\" + 0.018*\"want\" + 0.012*\"sex\" + 0.011*\"like\" + 0.011*\"life\" + 0.010*\"female\" + 0.008*\"think\" + 0.008*\"way\" + 0.008*\"need\"'),\n",
       " (5,\n",
       "  '0.070*\"look\" + 0.037*\"white\" + 0.037*\"fat\" + 0.028*\"dick\" + 0.026*\"black\" + 0.025*\"like\" + 0.018*\"wear\" + 0.017*\"body\" + 0.015*\"lmao\" + 0.015*\"big\"'),\n",
       " (6,\n",
       "  '0.045*\"good\" + 0.023*\"love\" + 0.021*\"watch\" + 0.018*\"like\" + 0.018*\"great\" + 0.018*\"thank\" + 0.017*\"movie\" + 0.017*\"read\" + 0.014*\"feel\" + 0.012*\"video\"'),\n",
       " (7,\n",
       "  '0.028*\"work\" + 0.021*\"money\" + 0.018*\"time\" + 0.017*\"pay\" + 0.016*\"year\" + 0.014*\"job\" + 0.012*\"day\" + 0.012*\"go\" + 0.011*\"good\" + 0.011*\"buy\"'),\n",
       " (8,\n",
       "  '0.074*\"kid\" + 0.055*\"child\" + 0.051*\"b\" + 0.045*\"amp_x\" + 0.032*\"rape\" + 0.023*\"mother\" + 0.021*\"father\" + 0.017*\"boy\" + 0.017*\"parent\" + 0.016*\"baby\"'),\n",
       " (9,\n",
       "  '0.125*\"lol\" + 0.046*\"t\" + 0.032*\"joke\" + 0.023*\"yeah\" + 0.023*\"vote\" + 0.022*\"bet\" + 0.020*\"cat\" + 0.018*\"photo\" + 0.017*\"haha\" + 0.017*\"welcome\"'),\n",
       " (10,\n",
       "  '0.315*\"\\'\" + 0.027*\"trash\" + 0.019*\"plantation\" + 0.017*\"pill\" + 0.017*\"abortion\" + 0.014*\"escort\" + 0.014*\"bot\" + 0.013*\"fan\" + 0.013*\"post_wall\" + 0.011*\"church\"'),\n",
       " (11,\n",
       "  '0.084*\"post\" + 0.036*\"sub\" + 0.035*\"comment\" + 0.025*\"read\" + 0.023*\"r\" + 0.017*\"ban\" + 0.015*\"reddit\" + 0.013*\"op\" + 0.012*\"say\" + 0.012*\"picture\"'),\n",
       " (12,\n",
       "  '0.048*\"dog\" + 0.039*\"ve\" + 0.026*\"mgtow\" + 0.024*\"-PRON-\" + 0.020*\"country\" + 0.020*\"hire\" + 0.019*\"isn_t\" + 0.017*\"phone\" + 0.017*\"text\" + 0.015*\"visit\"'),\n",
       " (13,\n",
       "  '0.028*\"marriage\" + 0.027*\"divorce\" + 0.026*\"marry\" + 0.017*\"law\" + 0.017*\"wife\" + 0.013*\"state\" + 0.012*\"get\" + 0.011*\"government\" + 0.011*\"happen\" + 0.010*\"right\"'),\n",
       " (14,\n",
       "  '0.041*\"simp\" + 0.018*\"lady\" + 0.018*\"lie\" + 0.017*\"hey\" + 0.015*\"claim\" + 0.014*\"god\" + 0.013*\"police\" + 0.012*\"fire\" + 0.012*\"ball\" + 0.011*\"shut\"')]"
      ]
     },
     "execution_count": 16,
     "metadata": {},
     "output_type": "execute_result"
    }
   ],
   "source": [
    "MGTOW_model.print_topics()"
   ]
  },
  {
   "cell_type": "code",
   "execution_count": 17,
   "metadata": {},
   "outputs": [
    {
     "data": {
      "text/plain": [
       "[(0,\n",
       "  '0.094*\"man\" + 0.084*\"woman\" + 0.018*\"people\" + 0.016*\"male\" + 0.015*\"society\" + 0.014*\"female\" + 0.012*\"feminist\" + 0.011*\"world\" + 0.010*\"rape\" + 0.009*\"like\"'),\n",
       " (1,\n",
       "  '0.029*\"work\" + 0.020*\"job\" + 0.019*\"money\" + 0.017*\"time\" + 0.014*\"year\" + 0.013*\"pay\" + 0.011*\"people\" + 0.010*\"life\" + 0.010*\"good\" + 0.010*\"go\"'),\n",
       " (2,\n",
       "  '0.222*\"s\" + 0.094*\"not\" + 0.073*\"don_t\" + 0.048*\"m\" + 0.029*\"archive_org\" + 0.028*\"be\" + 0.025*\"d\" + 0.024*\"t\" + 0.024*\"com\" + 0.022*\"http_www\"'),\n",
       " (3,\n",
       "  '0.021*\"thing\" + 0.021*\"\\'\" + 0.020*\"people\" + 0.019*\"like\" + 0.019*\"life\" + 0.017*\"feel\" + 0.017*\"think\" + 0.016*\"want\" + 0.015*\"way\" + 0.014*\"need\"'),\n",
       " (4,\n",
       "  '0.122*\"trp\" + 0.024*\"wear\" + 0.021*\"energy\" + 0.021*\"social_medium\" + 0.019*\"porn\" + 0.013*\"dress\" + 0.011*\"god\" + 0.011*\"anxiety\" + 0.011*\"pic\" + 0.010*\"professional\"'),\n",
       " (5,\n",
       "  '0.098*\"woman\" + 0.055*\"man\" + 0.027*\"sex\" + 0.024*\"guy\" + 0.022*\"want\" + 0.019*\"girl\" + 0.015*\"relationship\" + 0.014*\"look\" + 0.011*\"alpha\" + 0.010*\"think\"'),\n",
       " (6,\n",
       "  '0.040*\"girl\" + 0.023*\"time\" + 0.022*\"like\" + 0.022*\"friend\" + 0.018*\"want\" + 0.016*\"go\" + 0.013*\"know\" + 0.013*\"talk\" + 0.013*\"tell\" + 0.013*\"ask\"'),\n",
       " (7,\n",
       "  '0.034*\"reddit_com\" + 0.033*\"white\" + 0.032*\"u\" + 0.031*\"amp\" + 0.027*\"food\" + 0.025*\"black\" + 0.017*\"https\" + 0.016*\"city\" + 0.016*\"r_theredpill\" + 0.013*\"block\"'),\n",
       " (8,\n",
       "  '0.067*\"post\" + 0.027*\"comment\" + 0.026*\"read\" + 0.019*\"think\" + 0.017*\"like\" + 0.017*\"people\" + 0.015*\"sub\" + 0.012*\"say\" + 0.011*\"write\" + 0.010*\"know\"'),\n",
       " (9,\n",
       "  '0.070*\"read\" + 0.045*\"game\" + 0.039*\"learn\" + 0.038*\"book\" + 0.030*\"good\" + 0.028*\"https_www\" + 0.026*\"advice\" + 0.023*\"great\" + 0.020*\"play\" + 0.019*\"oneitis\"'),\n",
       " (10,\n",
       "  '0.028*\"day\" + 0.018*\"work\" + 0.018*\"lift\" + 0.018*\"start\" + 0.015*\"time\" + 0.015*\"look\" + 0.014*\"eat\" + 0.013*\"body\" + 0.013*\"week\" + 0.012*\"good\"'),\n",
       " (11,\n",
       "  '0.044*\"kid\" + 0.032*\"child\" + 0.028*\"marry\" + 0.026*\"wife\" + 0.026*\"marriage\" + 0.024*\"old\" + 0.024*\"husband\" + 0.023*\"young\" + 0.023*\"family\" + 0.022*\"age\"'),\n",
       " (12,\n",
       "  '0.057*\"fuck\" + 0.045*\"like\" + 0.035*\"shit\" + 0.028*\"guy\" + 0.025*\"get\" + 0.015*\"dude\" + 0.014*\"know\" + 0.014*\"plate\" + 0.014*\"bitch\" + 0.012*\"fucking\"'),\n",
       " (13,\n",
       "  '0.061*\"rp\" + 0.060*\"rule\" + 0.041*\"use\" + 0.040*\"archive\" + 0.021*\"source\" + 0.020*\"tool\" + 0.016*\"language\" + 0.015*\"apply\" + 0.014*\"site\" + 0.014*\"popular\"'),\n",
       " (14,\n",
       "  '0.044*\"study\" + 0.039*\"lie\" + 0.029*\"gay\" + 0.018*\"regret\" + 0.018*\"f\" + 0.017*\"truth\" + 0.016*\"straight\" + 0.015*\"careful\" + 0.014*\"retard\" + 0.013*\"science\"')]"
      ]
     },
     "execution_count": 17,
     "metadata": {},
     "output_type": "execute_result"
    }
   ],
   "source": [
    "RP_model.print_topics()"
   ]
  },
  {
   "cell_type": "code",
   "execution_count": 19,
   "metadata": {},
   "outputs": [
    {
     "data": {
      "text/plain": [
       "[(0,\n",
       "  '0.227*\"s\" + 0.142*\"\\'\" + 0.063*\"bro\" + 0.058*\"don_t\" + 0.056*\"m\" + 0.040*\"lmao\" + 0.026*\"t\" + 0.024*\"cope\" + 0.019*\"ve\" + 0.017*\"d\"'),\n",
       " (1,\n",
       "  '0.050*\"tbh\" + 0.033*\"damn\" + 0.026*\"loser\" + 0.023*\"win\" + 0.020*\"isn_t\" + 0.017*\"suffer\" + 0.015*\"nah\" + 0.014*\"son\" + 0.014*\"wear\" + 0.013*\"abuse\"'),\n",
       " (2,\n",
       "  '0.038*\"people\" + 0.036*\"like\" + 0.035*\"feel\" + 0.028*\"life\" + 0.020*\"want\" + 0.019*\"think\" + 0.019*\"bad\" + 0.016*\"help\" + 0.016*\"thing\" + 0.015*\"good\"'),\n",
       " (3,\n",
       "  '0.107*\"post\" + 0.034*\"sub\" + 0.023*\"reddit\" + 0.023*\"read\" + 0.020*\"ban\" + 0.016*\"thread\" + 0.015*\"rape\" + 0.015*\"fake\" + 0.015*\"op\" + 0.014*\"subreddit\"'),\n",
       " (4,\n",
       "  '0.087*\"not\" + 0.070*\"white\" + 0.037*\"short\" + 0.036*\"black\" + 0.034*\"be\" + 0.030*\"height\" + 0.030*\"tall\" + 0.027*\"face\" + 0.026*\"asian\" + 0.025*\"guy\"'),\n",
       " (5,\n",
       "  '0.025*\"child\" + 0.023*\"need\" + 0.019*\"boy\" + 0.017*\"money\" + 0.016*\"eat\" + 0.014*\"body\" + 0.014*\"kid\" + 0.014*\"beta\" + 0.011*\"big\" + 0.011*\"work\"'),\n",
       " (6,\n",
       "  '0.118*\"look\" + 0.061*\"guy\" + 0.056*\"like\" + 0.039*\"girl\" + 0.034*\"good\" + 0.031*\"ugly\" + 0.022*\"personality\" + 0.018*\"face\" + 0.017*\"think\" + 0.015*\"attractive\"'),\n",
       " (7,\n",
       "  '0.111*\"chad\" + 0.103*\"fuck\" + 0.048*\"female\" + 0.036*\"foid\" + 0.030*\"want\" + 0.022*\"cuck\" + 0.020*\"sex\" + 0.019*\"get\" + 0.017*\"male\" + 0.016*\"fucking\"'),\n",
       " (8,\n",
       "  '0.023*\"time\" + 0.021*\"friend\" + 0.019*\"work\" + 0.017*\"get\" + 0.017*\"go\" + 0.016*\"day\" + 0.015*\"year\" + 0.014*\"girl\" + 0.014*\"like\" + 0.013*\"good\"'),\n",
       " (9,\n",
       "  '0.069*\"b\" + 0.058*\"comment\" + 0.056*\"amp_x\" + 0.056*\"u\" + 0.052*\"https_www\" + 0.049*\"com\" + 0.037*\"r\" + 0.031*\"manlet\" + 0.023*\"https\" + 0.022*\"https_imgur\"'),\n",
       " (10,\n",
       "  '0.029*\"people\" + 0.013*\"world\" + 0.011*\"thing\" + 0.011*\"human\" + 0.011*\"society\" + 0.009*\"think\" + 0.007*\"base\" + 0.007*\"way\" + 0.007*\"point\" + 0.007*\"reality\"'),\n",
       " (11,\n",
       "  '0.274*\"incel\" + 0.065*\"normie\" + 0.050*\"hate\" + 0.041*\"virgin\" + 0.035*\"sub\" + 0.027*\"rope\" + 0.016*\"blackpill\" + 0.014*\"faggot\" + 0.012*\"cel\" + 0.012*\"cope\"'),\n",
       " (12,\n",
       "  '0.195*\"woman\" + 0.123*\"man\" + 0.024*\"sex\" + 0.020*\"want\" + 0.017*\"date\" + 0.013*\"male\" + 0.012*\"relationship\" + 0.009*\"find\" + 0.009*\"guy\" + 0.009*\"like\"'),\n",
       " (13,\n",
       "  '0.045*\"know\" + 0.029*\"fuck\" + 0.027*\"say\" + 0.024*\"try\" + 0.022*\"think\" + 0.021*\"tell\" + 0.019*\"like\" + 0.018*\"want\" + 0.017*\"meme\" + 0.017*\"talk\"'),\n",
       " (14,\n",
       "  '0.041*\"like\" + 0.038*\"nice\" + 0.026*\"dude\" + 0.026*\"lol\" + 0.024*\"shit\" + 0.023*\"get\" + 0.023*\"game\" + 0.019*\"funny\" + 0.017*\"ass\" + 0.016*\"tinder\"')]"
      ]
     },
     "execution_count": 19,
     "metadata": {},
     "output_type": "execute_result"
    }
   ],
   "source": [
    "Incel_model.print_topics()"
   ]
  },
  {
   "cell_type": "code",
   "execution_count": 21,
   "metadata": {},
   "outputs": [],
   "source": [
    "years = [2014, 2015, 2016, 2017, 2018]"
   ]
  },
  {
   "cell_type": "code",
   "execution_count": 22,
   "metadata": {},
   "outputs": [],
   "source": [
    "from gensim.models.wrappers.dtmmodel import DtmModel\n",
    "MGTOW_corpus = MmCorpus('./data/MGTOW_hdp_corpus.mm')\n",
    "MGTOW_dict =  Dictionary.load('./data/MGTOW_hdp_dictionary.dict')\n",
    "MGTOW_time_seq = []\n",
    "for year in years:\n",
    "    c = MmCorpus(f'./data/MGTOW_hdp_corpus_{year}.mm')\n",
    "    MGTOW_time_seq.append(len(c))\n",
    "MGTOW_time_seq.append(len(MGTOW_corpus) - sum(MGTOW_time_seq))"
   ]
  },
  {
   "cell_type": "code",
   "execution_count": 23,
   "metadata": {},
   "outputs": [],
   "source": [
    "dtm_path = \"./data/dtm/dtm-linux64\""
   ]
  },
  {
   "cell_type": "code",
   "execution_count": null,
   "metadata": {},
   "outputs": [],
   "source": [
    "MGTOW_model = DtmModel(dtm_path, MGTOW_corpus, MGTOW_time_seq, num_topics=10,\n",
    "                 id2word=MGTOW_dict, initialize_lda=True)"
   ]
  },
  {
   "cell_type": "code",
   "execution_count": null,
   "metadata": {},
   "outputs": [],
   "source": [
    "MGTOW_model.save(\"./lda/MGTOW_dtm.gensim\")"
   ]
  },
  {
   "cell_type": "code",
   "execution_count": null,
   "metadata": {},
   "outputs": [],
   "source": []
  }
 ],
 "metadata": {
  "kernelspec": {
   "display_name": "Python 3",
   "language": "python",
   "name": "python3"
  },
  "language_info": {
   "codemirror_mode": {
    "name": "ipython",
    "version": 3
   },
   "file_extension": ".py",
   "mimetype": "text/x-python",
   "name": "python",
   "nbconvert_exporter": "python",
   "pygments_lexer": "ipython3",
   "version": "3.7.3"
  }
 },
 "nbformat": 4,
 "nbformat_minor": 2
}
