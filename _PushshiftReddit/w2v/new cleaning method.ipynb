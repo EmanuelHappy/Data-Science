{
 "cells": [
  {
   "cell_type": "code",
   "execution_count": 73,
   "metadata": {},
   "outputs": [],
   "source": [
    "import re\n",
    "import pandas as pd\n",
    "import spacy\n",
    "import numpy as np"
   ]
  },
  {
   "cell_type": "code",
   "execution_count": 20,
   "metadata": {},
   "outputs": [],
   "source": [
    "nlp = spacy.load('en', disable=[\"ner\", \"parser\"])"
   ]
  },
  {
   "cell_type": "code",
   "execution_count": 149,
   "metadata": {},
   "outputs": [],
   "source": [
    "def cleaning(doc):\n",
    "    \"\"\"\n",
    "    :param doc: spacy Doc object processed by the pipeline\n",
    "    :return: Text lemmatized and without stopwords\n",
    "    \"\"\"\n",
    "    txt = [token.lemma_ for token in doc if not token.is_stop]\n",
    "\n",
    "    # Since training with small document don't make great benefits, they are ignored.\n",
    "    if len(txt) > 2:\n",
    "        return ' '.join(txt)"
   ]
  },
  {
   "cell_type": "code",
   "execution_count": 150,
   "metadata": {},
   "outputs": [],
   "source": [
    "df = pd.read_csv('./../data/reddit/cm/MensRightsLaw_comments.csv')\n",
    "df['subreddit'] = 'MensRightsLaw'"
   ]
  },
  {
   "cell_type": "code",
   "execution_count": 151,
   "metadata": {},
   "outputs": [],
   "source": [
    "df2 = pd.read_csv('./../data/reddit/cm/MRActivism_comments.csv')\n",
    "df2['subreddit'] = 'MRActivism'"
   ]
  },
  {
   "cell_type": "code",
   "execution_count": 152,
   "metadata": {},
   "outputs": [],
   "source": [
    "df = df.append(df2)"
   ]
  },
  {
   "cell_type": "code",
   "execution_count": 153,
   "metadata": {},
   "outputs": [],
   "source": [
    "df = df.append({'ID':'1', 'Comment':'1', 'Author':'1', 'Score':1, 'Parent id':'1', 'Publish Date':'1', 'subreddit':'1'}, ignore_index=True)"
   ]
  },
  {
   "cell_type": "code",
   "execution_count": 154,
   "metadata": {},
   "outputs": [
    {
     "data": {
      "text/plain": [
       "(707, 7)"
      ]
     },
     "execution_count": 154,
     "metadata": {},
     "output_type": "execute_result"
    }
   ],
   "source": [
    "df.shape"
   ]
  },
  {
   "cell_type": "code",
   "execution_count": 155,
   "metadata": {},
   "outputs": [],
   "source": [
    "brief_cleaning = (re.sub(\"[^A-Za-z']+\", ' ', str(row)).lower() for row in df['Comment'])"
   ]
  },
  {
   "cell_type": "code",
   "execution_count": 156,
   "metadata": {},
   "outputs": [],
   "source": [
    " txt = [cleaning(doc) for doc in nlp.pipe(brief_cleaning, batch_size=32, n_threads=16)]"
   ]
  },
  {
   "cell_type": "code",
   "execution_count": 158,
   "metadata": {},
   "outputs": [],
   "source": [
    " df_clean = pd.DataFrame({'clean': txt})"
   ]
  },
  {
   "cell_type": "code",
   "execution_count": 160,
   "metadata": {},
   "outputs": [
    {
     "data": {
      "text/html": [
       "<div>\n",
       "<style scoped>\n",
       "    .dataframe tbody tr th:only-of-type {\n",
       "        vertical-align: middle;\n",
       "    }\n",
       "\n",
       "    .dataframe tbody tr th {\n",
       "        vertical-align: top;\n",
       "    }\n",
       "\n",
       "    .dataframe thead th {\n",
       "        text-align: right;\n",
       "    }\n",
       "</style>\n",
       "<table border=\"1\" class=\"dataframe\">\n",
       "  <thead>\n",
       "    <tr style=\"text-align: right;\">\n",
       "      <th></th>\n",
       "      <th>clean</th>\n",
       "    </tr>\n",
       "  </thead>\n",
       "  <tbody>\n",
       "    <tr>\n",
       "      <th>702</th>\n",
       "      <td>te talk thumb nail like hand exactly like</td>\n",
       "    </tr>\n",
       "    <tr>\n",
       "      <th>703</th>\n",
       "      <td>live sacramento life super farfetched lol good...</td>\n",
       "    </tr>\n",
       "    <tr>\n",
       "      <th>704</th>\n",
       "      <td>number sentence think read</td>\n",
       "    </tr>\n",
       "    <tr>\n",
       "      <th>705</th>\n",
       "      <td>exact thing toronto year</td>\n",
       "    </tr>\n",
       "    <tr>\n",
       "      <th>706</th>\n",
       "      <td>None</td>\n",
       "    </tr>\n",
       "  </tbody>\n",
       "</table>\n",
       "</div>"
      ],
      "text/plain": [
       "                                                 clean\n",
       "702          te talk thumb nail like hand exactly like\n",
       "703  live sacramento life super farfetched lol good...\n",
       "704                         number sentence think read\n",
       "705                           exact thing toronto year\n",
       "706                                               None"
      ]
     },
     "execution_count": 160,
     "metadata": {},
     "output_type": "execute_result"
    }
   ],
   "source": [
    "df_clean.tail()"
   ]
  },
  {
   "cell_type": "code",
   "execution_count": 125,
   "metadata": {},
   "outputs": [],
   "source": [
    "df_clean['index'] = np.arange(0, df_clean.shape[0], 1)"
   ]
  },
  {
   "cell_type": "code",
   "execution_count": 94,
   "metadata": {},
   "outputs": [],
   "source": [
    "df_clean = df_clean.append({'clean':'b', 'index':709}, ignore_index=True)"
   ]
  },
  {
   "cell_type": "code",
   "execution_count": 100,
   "metadata": {},
   "outputs": [],
   "source": [
    "df_clean = df_clean['clean'].dropna().drop_duplicates()"
   ]
  },
  {
   "cell_type": "code",
   "execution_count": 101,
   "metadata": {},
   "outputs": [
    {
     "data": {
      "text/plain": [
       "602    live sacramento life super farfetched lol good...\n",
       "603                           number sentence think read\n",
       "604                             exact thing toronto year\n",
       "605                                                    a\n",
       "607                                                    b\n",
       "Name: clean, dtype: object"
      ]
     },
     "execution_count": 101,
     "metadata": {},
     "output_type": "execute_result"
    }
   ],
   "source": [
    "df_clean.tail()"
   ]
  },
  {
   "cell_type": "markdown",
   "metadata": {},
   "source": [
    "### Making the data frame completed"
   ]
  },
  {
   "cell_type": "code",
   "execution_count": 14,
   "metadata": {},
   "outputs": [],
   "source": [
    "import pickle\n",
    "import pandas as pd\n",
    "import numpy as np"
   ]
  },
  {
   "cell_type": "code",
   "execution_count": 39,
   "metadata": {},
   "outputs": [],
   "source": [
    "with open('df_clean.csv', 'rb') as fp:\n",
    "    df_clean = pickle.load(fp)"
   ]
  },
  {
   "cell_type": "code",
   "execution_count": 6,
   "metadata": {},
   "outputs": [
    {
     "name": "stdout",
     "output_type": "stream",
     "text": [
      "added MGTOW\n",
      "added exredpill\n",
      "added RedPillParenting\n",
      "added redpillbooks\n",
      "added TheRedPill\n",
      "added RedPillWomen\n",
      "added asktrp\n",
      "added thankTRP\n",
      "added becomeaman\n",
      "added GEOTRP\n",
      "added TRPOffTopic\n",
      "added Braincels\n",
      "added askanincel\n",
      "added BlackPillScience\n",
      "added IncelsWithoutHate\n",
      "added ForeverAlone\n",
      "added MensRightsLaw\n",
      "added MRActivism\n",
      "added FeMRA\n",
      "added LadyMRAs\n",
      "added Masculism\n",
      "added MensRants\n",
      "added MRRef\n",
      "added FeMRADebates\n",
      "added againstmensrights\n",
      "added TheBluePill\n"
     ]
    }
   ],
   "source": [
    "sdf = pd.read_csv('./../subreddits.csv')\n",
    "subreddits = sdf.values.tolist()\n",
    "for s in subreddits:\n",
    "        sub = str(s)[5:-5]\n",
    "\n",
    "        temp_df = pd.read_csv(f'./../data/reddit/cm/{sub}_comments.csv')\n",
    "        temp_df['subreddit'] = sub\n",
    "        if s == subreddits[0]:\n",
    "            df = temp_df\n",
    "        else:\n",
    "            df = df.append(temp_df, ignore_index=True)\n",
    "        print(f'added {sub}')"
   ]
  },
  {
   "cell_type": "code",
   "execution_count": 12,
   "metadata": {},
   "outputs": [
    {
     "data": {
      "text/html": [
       "<div>\n",
       "<style scoped>\n",
       "    .dataframe tbody tr th:only-of-type {\n",
       "        vertical-align: middle;\n",
       "    }\n",
       "\n",
       "    .dataframe tbody tr th {\n",
       "        vertical-align: top;\n",
       "    }\n",
       "\n",
       "    .dataframe thead th {\n",
       "        text-align: right;\n",
       "    }\n",
       "</style>\n",
       "<table border=\"1\" class=\"dataframe\">\n",
       "  <thead>\n",
       "    <tr style=\"text-align: right;\">\n",
       "      <th></th>\n",
       "      <th>ID</th>\n",
       "      <th>Comment</th>\n",
       "      <th>Author</th>\n",
       "      <th>Score</th>\n",
       "      <th>Parent id</th>\n",
       "      <th>Publish Date</th>\n",
       "      <th>subreddit</th>\n",
       "    </tr>\n",
       "  </thead>\n",
       "  <tbody>\n",
       "    <tr>\n",
       "      <th>0</th>\n",
       "      <td>c5eb3m3</td>\n",
       "      <td>[deleted]</td>\n",
       "      <td>[deleted]</td>\n",
       "      <td>1</td>\n",
       "      <td>t3_wlcy9</td>\n",
       "      <td>2012-07-15 11:07:27</td>\n",
       "      <td>MGTOW</td>\n",
       "    </tr>\n",
       "    <tr>\n",
       "      <th>1</th>\n",
       "      <td>c5eey4f</td>\n",
       "      <td>[deleted]</td>\n",
       "      <td>[deleted]</td>\n",
       "      <td>3</td>\n",
       "      <td>t3_wlscd</td>\n",
       "      <td>2012-07-15 16:41:13</td>\n",
       "      <td>MGTOW</td>\n",
       "    </tr>\n",
       "    <tr>\n",
       "      <th>2</th>\n",
       "      <td>c5ef264</td>\n",
       "      <td>Statism and socialism are intrinsically anti-m...</td>\n",
       "      <td>gege33</td>\n",
       "      <td>3</td>\n",
       "      <td>t3_wlomv</td>\n",
       "      <td>2012-07-15 16:49:37</td>\n",
       "      <td>MGTOW</td>\n",
       "    </tr>\n",
       "    <tr>\n",
       "      <th>3</th>\n",
       "      <td>c5efadr</td>\n",
       "      <td>[deleted]</td>\n",
       "      <td>[deleted]</td>\n",
       "      <td>5</td>\n",
       "      <td>t3_wlp3l</td>\n",
       "      <td>2012-07-15 17:07:08</td>\n",
       "      <td>MGTOW</td>\n",
       "    </tr>\n",
       "    <tr>\n",
       "      <th>4</th>\n",
       "      <td>c5effq0</td>\n",
       "      <td>[deleted]</td>\n",
       "      <td>[deleted]</td>\n",
       "      <td>3</td>\n",
       "      <td>t3_wltx8</td>\n",
       "      <td>2012-07-15 17:18:40</td>\n",
       "      <td>MGTOW</td>\n",
       "    </tr>\n",
       "  </tbody>\n",
       "</table>\n",
       "</div>"
      ],
      "text/plain": [
       "        ID                                            Comment     Author  \\\n",
       "0  c5eb3m3                                          [deleted]  [deleted]   \n",
       "1  c5eey4f                                          [deleted]  [deleted]   \n",
       "2  c5ef264  Statism and socialism are intrinsically anti-m...     gege33   \n",
       "3  c5efadr                                          [deleted]  [deleted]   \n",
       "4  c5effq0                                          [deleted]  [deleted]   \n",
       "\n",
       "   Score Parent id         Publish Date subreddit  \n",
       "0      1  t3_wlcy9  2012-07-15 11:07:27     MGTOW  \n",
       "1      3  t3_wlscd  2012-07-15 16:41:13     MGTOW  \n",
       "2      3  t3_wlomv  2012-07-15 16:49:37     MGTOW  \n",
       "3      5  t3_wlp3l  2012-07-15 17:07:08     MGTOW  \n",
       "4      3  t3_wltx8  2012-07-15 17:18:40     MGTOW  "
      ]
     },
     "execution_count": 12,
     "metadata": {},
     "output_type": "execute_result"
    }
   ],
   "source": [
    "df.head()"
   ]
  },
  {
   "cell_type": "code",
   "execution_count": 40,
   "metadata": {},
   "outputs": [],
   "source": [
    "df_clean = df_clean.dropna().drop_duplicates()"
   ]
  },
  {
   "cell_type": "code",
   "execution_count": 41,
   "metadata": {},
   "outputs": [],
   "source": [
    "df_clean['subreddit'] = df['subreddit']"
   ]
  },
  {
   "cell_type": "code",
   "execution_count": 42,
   "metadata": {},
   "outputs": [],
   "source": [
    "df_clean['Date'] = df['Publish Date']"
   ]
  },
  {
   "cell_type": "code",
   "execution_count": 44,
   "metadata": {},
   "outputs": [
    {
     "data": {
      "text/html": [
       "<div>\n",
       "<style scoped>\n",
       "    .dataframe tbody tr th:only-of-type {\n",
       "        vertical-align: middle;\n",
       "    }\n",
       "\n",
       "    .dataframe tbody tr th {\n",
       "        vertical-align: top;\n",
       "    }\n",
       "\n",
       "    .dataframe thead th {\n",
       "        text-align: right;\n",
       "    }\n",
       "</style>\n",
       "<table border=\"1\" class=\"dataframe\">\n",
       "  <thead>\n",
       "    <tr style=\"text-align: right;\">\n",
       "      <th></th>\n",
       "      <th>clean</th>\n",
       "      <th>subreddit</th>\n",
       "      <th>Date</th>\n",
       "    </tr>\n",
       "  </thead>\n",
       "  <tbody>\n",
       "    <tr>\n",
       "      <th>13761265</th>\n",
       "      <td>interesting point actually consider</td>\n",
       "      <td>TheBluePill</td>\n",
       "      <td>2019-05-06 23:28:10</td>\n",
       "    </tr>\n",
       "    <tr>\n",
       "      <th>13761266</th>\n",
       "      <td>guy actually pay money convention tell chad ...</td>\n",
       "      <td>TheBluePill</td>\n",
       "      <td>2019-05-06 23:51:00</td>\n",
       "    </tr>\n",
       "    <tr>\n",
       "      <th>13761267</th>\n",
       "      <td>swindle pretend call grift con</td>\n",
       "      <td>TheBluePill</td>\n",
       "      <td>2019-05-07 00:13:36</td>\n",
       "    </tr>\n",
       "    <tr>\n",
       "      <th>13761268</th>\n",
       "      <td>nah properly convention bring pua unironically...</td>\n",
       "      <td>TheBluePill</td>\n",
       "      <td>2019-05-07 00:17:20</td>\n",
       "    </tr>\n",
       "    <tr>\n",
       "      <th>13761269</th>\n",
       "      <td>grift griftman</td>\n",
       "      <td>TheBluePill</td>\n",
       "      <td>2019-05-07 00:44:27</td>\n",
       "    </tr>\n",
       "  </tbody>\n",
       "</table>\n",
       "</div>"
      ],
      "text/plain": [
       "                                                      clean    subreddit  \\\n",
       "13761265                interesting point actually consider  TheBluePill   \n",
       "13761266    guy actually pay money convention tell chad ...  TheBluePill   \n",
       "13761267                     swindle pretend call grift con  TheBluePill   \n",
       "13761268  nah properly convention bring pua unironically...  TheBluePill   \n",
       "13761269                                     grift griftman  TheBluePill   \n",
       "\n",
       "                         Date  \n",
       "13761265  2019-05-06 23:28:10  \n",
       "13761266  2019-05-06 23:51:00  \n",
       "13761267  2019-05-07 00:13:36  \n",
       "13761268  2019-05-07 00:17:20  \n",
       "13761269  2019-05-07 00:44:27  "
      ]
     },
     "execution_count": 44,
     "metadata": {},
     "output_type": "execute_result"
    }
   ],
   "source": [
    "df_clean.tail()"
   ]
  },
  {
   "cell_type": "code",
   "execution_count": 45,
   "metadata": {},
   "outputs": [],
   "source": [
    "df_clean.to_pickle(f\"df_clean_sub_date.csv\")"
   ]
  },
  {
   "cell_type": "code",
   "execution_count": null,
   "metadata": {},
   "outputs": [],
   "source": []
  }
 ],
 "metadata": {
  "kernelspec": {
   "display_name": "Python 3",
   "language": "python",
   "name": "python3"
  },
  "language_info": {
   "codemirror_mode": {
    "name": "ipython",
    "version": 3
   },
   "file_extension": ".py",
   "mimetype": "text/x-python",
   "name": "python",
   "nbconvert_exporter": "python",
   "pygments_lexer": "ipython3",
   "version": "3.7.3"
  }
 },
 "nbformat": 4,
 "nbformat_minor": 2
}
