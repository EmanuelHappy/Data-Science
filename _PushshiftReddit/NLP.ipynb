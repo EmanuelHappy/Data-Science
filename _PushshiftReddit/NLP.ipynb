{
 "cells": [
  {
   "cell_type": "code",
   "execution_count": 69,
   "metadata": {},
   "outputs": [],
   "source": [
    "%matplotlib inline\n",
    "import pandas as pd\n",
    "import numpy as np\n",
    "from sklearn.feature_extraction.text import CountVectorizer\n",
    "from sklearn.linear_model import LogisticRegression"
   ]
  },
  {
   "cell_type": "code",
   "execution_count": 72,
   "metadata": {},
   "outputs": [
    {
     "ename": "SyntaxError",
     "evalue": "invalid syntax (<ipython-input-72-c4cb1a011386>, line 1)",
     "output_type": "error",
     "traceback": [
      "\u001b[0;36m  File \u001b[0;32m\"<ipython-input-72-c4cb1a011386>\"\u001b[0;36m, line \u001b[0;32m1\u001b[0m\n\u001b[0;31m    from \"./../../fastai/courses/ml1/fastai/text\" import tokenize\u001b[0m\n\u001b[0m                                                ^\u001b[0m\n\u001b[0;31mSyntaxError\u001b[0m\u001b[0;31m:\u001b[0m invalid syntax\n"
     ]
    }
   ],
   "source": [
    "from \"./../../fastai/courses/ml1/fastai/text\" import tokenize"
   ]
  },
  {
   "cell_type": "code",
   "execution_count": 37,
   "metadata": {},
   "outputs": [],
   "source": [
    "df = pd.read_csv(\"./data/reddit/cm/askanincel_comments.csv\")"
   ]
  },
  {
   "cell_type": "code",
   "execution_count": 9,
   "metadata": {},
   "outputs": [
    {
     "data": {
      "text/html": [
       "<div>\n",
       "<style scoped>\n",
       "    .dataframe tbody tr th:only-of-type {\n",
       "        vertical-align: middle;\n",
       "    }\n",
       "\n",
       "    .dataframe tbody tr th {\n",
       "        vertical-align: top;\n",
       "    }\n",
       "\n",
       "    .dataframe thead th {\n",
       "        text-align: right;\n",
       "    }\n",
       "</style>\n",
       "<table border=\"1\" class=\"dataframe\">\n",
       "  <thead>\n",
       "    <tr style=\"text-align: right;\">\n",
       "      <th></th>\n",
       "      <th>ID</th>\n",
       "      <th>Comment</th>\n",
       "      <th>Author</th>\n",
       "      <th>Score</th>\n",
       "      <th>Parent id</th>\n",
       "      <th>Publish Date</th>\n",
       "    </tr>\n",
       "  </thead>\n",
       "  <tbody>\n",
       "    <tr>\n",
       "      <th>0</th>\n",
       "      <td>ear6abi</td>\n",
       "      <td>Larpers/satire/parody.</td>\n",
       "      <td>Board_Gaming</td>\n",
       "      <td>1</td>\n",
       "      <td>t3_a1naq2</td>\n",
       "      <td>2018-11-29 22:42:02</td>\n",
       "    </tr>\n",
       "    <tr>\n",
       "      <th>1</th>\n",
       "      <td>ear6km8</td>\n",
       "      <td>You should realise that at least a third of th...</td>\n",
       "      <td>Ludovico_Pareto</td>\n",
       "      <td>1</td>\n",
       "      <td>t1_ear6abi</td>\n",
       "      <td>2018-11-29 22:46:24</td>\n",
       "    </tr>\n",
       "    <tr>\n",
       "      <th>2</th>\n",
       "      <td>ear6n8t</td>\n",
       "      <td>Why would you ask this question to incels?</td>\n",
       "      <td>Appropriate_Box</td>\n",
       "      <td>1</td>\n",
       "      <td>t3_a1ncm8</td>\n",
       "      <td>2018-11-29 22:47:30</td>\n",
       "    </tr>\n",
       "    <tr>\n",
       "      <th>3</th>\n",
       "      <td>ear6n9i</td>\n",
       "      <td>Men have a broader range of attraction. \\n\\nA ...</td>\n",
       "      <td>Ludovico_Pareto</td>\n",
       "      <td>1</td>\n",
       "      <td>t3_a1ncm8</td>\n",
       "      <td>2018-11-29 22:47:30</td>\n",
       "    </tr>\n",
       "    <tr>\n",
       "      <th>4</th>\n",
       "      <td>ear6obp</td>\n",
       "      <td>Would never date one. And they would never dat...</td>\n",
       "      <td>KosmicMalware</td>\n",
       "      <td>1</td>\n",
       "      <td>t3_a1naq2</td>\n",
       "      <td>2018-11-29 22:47:57</td>\n",
       "    </tr>\n",
       "  </tbody>\n",
       "</table>\n",
       "</div>"
      ],
      "text/plain": [
       "        ID                                            Comment  \\\n",
       "0  ear6abi                             Larpers/satire/parody.   \n",
       "1  ear6km8  You should realise that at least a third of th...   \n",
       "2  ear6n8t         Why would you ask this question to incels?   \n",
       "3  ear6n9i  Men have a broader range of attraction. \\n\\nA ...   \n",
       "4  ear6obp  Would never date one. And they would never dat...   \n",
       "\n",
       "            Author  Score   Parent id         Publish Date  \n",
       "0     Board_Gaming      1   t3_a1naq2  2018-11-29 22:42:02  \n",
       "1  Ludovico_Pareto      1  t1_ear6abi  2018-11-29 22:46:24  \n",
       "2  Appropriate_Box      1   t3_a1ncm8  2018-11-29 22:47:30  \n",
       "3  Ludovico_Pareto      1   t3_a1ncm8  2018-11-29 22:47:30  \n",
       "4    KosmicMalware      1   t3_a1naq2  2018-11-29 22:47:57  "
      ]
     },
     "execution_count": 9,
     "metadata": {},
     "output_type": "execute_result"
    }
   ],
   "source": [
    "df.head()"
   ]
  },
  {
   "cell_type": "code",
   "execution_count": 31,
   "metadata": {},
   "outputs": [
    {
     "data": {
      "text/plain": [
       "3531"
      ]
     },
     "execution_count": 31,
     "metadata": {},
     "output_type": "execute_result"
    }
   ],
   "source": [
    "np.array(df.Score>4).sum()"
   ]
  },
  {
   "cell_type": "code",
   "execution_count": 32,
   "metadata": {},
   "outputs": [
    {
     "data": {
      "text/plain": [
       "5355"
      ]
     },
     "execution_count": 32,
     "metadata": {},
     "output_type": "execute_result"
    }
   ],
   "source": [
    "np.array(df.Score>1).sum() - 3531"
   ]
  },
  {
   "cell_type": "code",
   "execution_count": 33,
   "metadata": {},
   "outputs": [
    {
     "data": {
      "text/plain": [
       "29988"
      ]
     },
     "execution_count": 33,
     "metadata": {},
     "output_type": "execute_result"
    }
   ],
   "source": [
    "np.array(df.Score==1).sum()"
   ]
  },
  {
   "cell_type": "code",
   "execution_count": 34,
   "metadata": {},
   "outputs": [
    {
     "data": {
      "text/plain": [
       "2253"
      ]
     },
     "execution_count": 34,
     "metadata": {},
     "output_type": "execute_result"
    }
   ],
   "source": [
    "np.array(df.Score<1).sum()"
   ]
  },
  {
   "cell_type": "code",
   "execution_count": 35,
   "metadata": {},
   "outputs": [
    {
     "data": {
      "text/html": [
       "<div>\n",
       "<style scoped>\n",
       "    .dataframe tbody tr th:only-of-type {\n",
       "        vertical-align: middle;\n",
       "    }\n",
       "\n",
       "    .dataframe tbody tr th {\n",
       "        vertical-align: top;\n",
       "    }\n",
       "\n",
       "    .dataframe thead th {\n",
       "        text-align: right;\n",
       "    }\n",
       "</style>\n",
       "<table border=\"1\" class=\"dataframe\">\n",
       "  <thead>\n",
       "    <tr style=\"text-align: right;\">\n",
       "      <th></th>\n",
       "      <th>ID</th>\n",
       "      <th>Comment</th>\n",
       "      <th>Author</th>\n",
       "      <th>Score</th>\n",
       "      <th>Parent id</th>\n",
       "      <th>Publish Date</th>\n",
       "    </tr>\n",
       "  </thead>\n",
       "  <tbody>\n",
       "    <tr>\n",
       "      <th>0</th>\n",
       "      <td>ear6abi</td>\n",
       "      <td>Larpers/satire/parody.</td>\n",
       "      <td>Board_Gaming</td>\n",
       "      <td>1</td>\n",
       "      <td>t3_a1naq2</td>\n",
       "      <td>2018-11-29 22:42:02</td>\n",
       "    </tr>\n",
       "    <tr>\n",
       "      <th>1</th>\n",
       "      <td>ear6km8</td>\n",
       "      <td>You should realise that at least a third of th...</td>\n",
       "      <td>Ludovico_Pareto</td>\n",
       "      <td>1</td>\n",
       "      <td>t1_ear6abi</td>\n",
       "      <td>2018-11-29 22:46:24</td>\n",
       "    </tr>\n",
       "    <tr>\n",
       "      <th>2</th>\n",
       "      <td>ear6n8t</td>\n",
       "      <td>Why would you ask this question to incels?</td>\n",
       "      <td>Appropriate_Box</td>\n",
       "      <td>1</td>\n",
       "      <td>t3_a1ncm8</td>\n",
       "      <td>2018-11-29 22:47:30</td>\n",
       "    </tr>\n",
       "    <tr>\n",
       "      <th>3</th>\n",
       "      <td>ear6n9i</td>\n",
       "      <td>Men have a broader range of attraction. \\n\\nA ...</td>\n",
       "      <td>Ludovico_Pareto</td>\n",
       "      <td>1</td>\n",
       "      <td>t3_a1ncm8</td>\n",
       "      <td>2018-11-29 22:47:30</td>\n",
       "    </tr>\n",
       "    <tr>\n",
       "      <th>4</th>\n",
       "      <td>ear6obp</td>\n",
       "      <td>Would never date one. And they would never dat...</td>\n",
       "      <td>KosmicMalware</td>\n",
       "      <td>1</td>\n",
       "      <td>t3_a1naq2</td>\n",
       "      <td>2018-11-29 22:47:57</td>\n",
       "    </tr>\n",
       "  </tbody>\n",
       "</table>\n",
       "</div>"
      ],
      "text/plain": [
       "        ID                                            Comment  \\\n",
       "0  ear6abi                             Larpers/satire/parody.   \n",
       "1  ear6km8  You should realise that at least a third of th...   \n",
       "2  ear6n8t         Why would you ask this question to incels?   \n",
       "3  ear6n9i  Men have a broader range of attraction. \\n\\nA ...   \n",
       "4  ear6obp  Would never date one. And they would never dat...   \n",
       "\n",
       "            Author  Score   Parent id         Publish Date  \n",
       "0     Board_Gaming      1   t3_a1naq2  2018-11-29 22:42:02  \n",
       "1  Ludovico_Pareto      1  t1_ear6abi  2018-11-29 22:46:24  \n",
       "2  Appropriate_Box      1   t3_a1ncm8  2018-11-29 22:47:30  \n",
       "3  Ludovico_Pareto      1   t3_a1ncm8  2018-11-29 22:47:30  \n",
       "4    KosmicMalware      1   t3_a1naq2  2018-11-29 22:47:57  "
      ]
     },
     "execution_count": 35,
     "metadata": {},
     "output_type": "execute_result"
    }
   ],
   "source": [
    "df.head()"
   ]
  },
  {
   "cell_type": "code",
   "execution_count": 40,
   "metadata": {},
   "outputs": [],
   "source": [
    "df['Voted'] = np.array(df.Score>1)*1"
   ]
  },
  {
   "cell_type": "code",
   "execution_count": 46,
   "metadata": {},
   "outputs": [
    {
     "data": {
      "text/plain": [
       "8886"
      ]
     },
     "execution_count": 46,
     "metadata": {},
     "output_type": "execute_result"
    }
   ],
   "source": [
    "df.Voted.sum()"
   ]
  },
  {
   "cell_type": "code",
   "execution_count": 47,
   "metadata": {},
   "outputs": [
    {
     "data": {
      "text/plain": [
       "(41127, 7)"
      ]
     },
     "execution_count": 47,
     "metadata": {},
     "output_type": "execute_result"
    }
   ],
   "source": [
    "df.shape"
   ]
  },
  {
   "cell_type": "code",
   "execution_count": 55,
   "metadata": {},
   "outputs": [],
   "source": [
    "x_trn = df.Comment[:31127].values\n",
    "y_trn = df.Voted[:31127].values"
   ]
  },
  {
   "cell_type": "code",
   "execution_count": 56,
   "metadata": {},
   "outputs": [],
   "source": [
    "x_val = df.Comment[31127:].values\n",
    "y_val = df.Voted[31127:].values"
   ]
  },
  {
   "cell_type": "code",
   "execution_count": 68,
   "metadata": {},
   "outputs": [
    {
     "ename": "NameError",
     "evalue": "name 'tokenize' is not defined",
     "output_type": "error",
     "traceback": [
      "\u001b[0;31m---------------------------------------------------------------------------\u001b[0m",
      "\u001b[0;31mNameError\u001b[0m                                 Traceback (most recent call last)",
      "\u001b[0;32m<ipython-input-68-9a9d622ae7af>\u001b[0m in \u001b[0;36m<module>\u001b[0;34m\u001b[0m\n\u001b[0;32m----> 1\u001b[0;31m \u001b[0mveczr\u001b[0m \u001b[0;34m=\u001b[0m \u001b[0mCountVectorizer\u001b[0m\u001b[0;34m(\u001b[0m\u001b[0mtokenizer\u001b[0m\u001b[0;34m=\u001b[0m\u001b[0mtokenize\u001b[0m\u001b[0;34m)\u001b[0m\u001b[0;34m\u001b[0m\u001b[0;34m\u001b[0m\u001b[0m\n\u001b[0m",
      "\u001b[0;31mNameError\u001b[0m: name 'tokenize' is not defined"
     ]
    }
   ],
   "source": [
    "veczr = CountVectorizer(tokenizer=tokenize)"
   ]
  },
  {
   "cell_type": "code",
   "execution_count": null,
   "metadata": {},
   "outputs": [],
   "source": []
  }
 ],
 "metadata": {
  "kernelspec": {
   "display_name": "Python 3",
   "language": "python",
   "name": "python3"
  },
  "language_info": {
   "codemirror_mode": {
    "name": "ipython",
    "version": 3
   },
   "file_extension": ".py",
   "mimetype": "text/x-python",
   "name": "python",
   "nbconvert_exporter": "python",
   "pygments_lexer": "ipython3",
   "version": "3.7.1"
  }
 },
 "nbformat": 4,
 "nbformat_minor": 2
}
